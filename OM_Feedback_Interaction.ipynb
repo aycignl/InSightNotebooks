{
 "cells": [
  {
   "cell_type": "markdown",
   "metadata": {
    "deletable": true,
    "editable": true
   },
   "source": [
    "# OM Feedback Interaction\n",
    "\n",
    "This notebook illustrates feedback system implemented by InSight. Unlike other systems, feedback system needs active API usage and this notebook created to help you how to use the API endpoints."
   ]
  },
  {
   "cell_type": "markdown",
   "metadata": {
    "deletable": true,
    "editable": true
   },
   "source": [
    "** Steps: **\n",
    "\n",
    "1. Request contents specific to users.\n",
    "  * News\n",
    "  * Events\n",
    "  * Questions\n",
    "2. Send feedback to the requested and selected content."
   ]
  },
  {
   "cell_type": "markdown",
   "metadata": {
    "deletable": true,
    "editable": true
   },
   "source": [
    "## Scenarios\n",
    "\n",
    "In this scenario, a system called **OutSight**, requests different types of contents for one of its user (id: 135574293). Then, sends the feedbacks of its user back to the **InSight** system."
   ]
  },
  {
   "cell_type": "markdown",
   "metadata": {
    "deletable": true,
    "editable": true
   },
   "source": [
    "### Scenario 1 - News"
   ]
  },
  {
   "cell_type": "markdown",
   "metadata": {
    "deletable": true,
    "editable": true
   },
   "source": [
    "### Request Content"
   ]
  },
  {
   "cell_type": "markdown",
   "metadata": {
    "deletable": true,
    "editable": true
   },
   "source": [
    "First, OutSight requests contents to show the user."
   ]
  },
  {
   "cell_type": "code",
   "execution_count": 2,
   "metadata": {
    "collapsed": true,
    "deletable": true,
    "editable": true
   },
   "outputs": [],
   "source": [
    "import requests\n",
    "\n",
    "insightIP = 'http://178.62.229.16'\n",
    "insightPort = '8484'\n",
    "insightVersion = 'v1.1'\n",
    "\n",
    "# parameters of news are crm_ids and api_key\n",
    "crm_ids = [135574293]\n",
    "api_key = \"\" #needs to be filled\n",
    "\n",
    "insightSetting = insightIP + ':' + insightPort + '/api/' + insightVersion \n",
    "request = '/recommendation/news?' + 'crm_ids=' + str(crm_ids) + '&' + 'api_key=' + api_key\n",
    "\n",
    "# send a request\n",
    "res = requests.get(insightSetting + request)"
   ]
  },
  {
   "cell_type": "markdown",
   "metadata": {
    "deletable": true,
    "editable": true
   },
   "source": [
    "Recommendation News API endpoint returns **crm_id**, **twitter_id** of the given user, **feedback_type** of the requested content and **all recommended news** for given user. Below, you can find some useful information of 3 recommended news for the user with id: 135574293."
   ]
  },
  {
   "cell_type": "code",
   "execution_count": 5,
   "metadata": {
    "collapsed": false,
    "deletable": true,
    "editable": true
   },
   "outputs": [
    {
     "data": {
      "text/plain": [
       "dict_keys(['crm_id', 'news', 'twitter_id', 'feedback_type'])"
      ]
     },
     "execution_count": 5,
     "metadata": {},
     "output_type": "execute_result"
    }
   ],
   "source": [
    "res.json()['users'][0].keys()"
   ]
  },
  {
   "cell_type": "code",
   "execution_count": 12,
   "metadata": {
    "collapsed": false,
    "deletable": true,
    "editable": true
   },
   "outputs": [
    {
     "name": "stdout",
     "output_type": "stream",
     "text": [
      "crm_id: 135574293\n",
      "twitter_id: 323040062\n",
      "feedback_type: rate_1_to_5\n",
      "\n"
     ]
    }
   ],
   "source": [
    "print(\"crm_id: \" + res.json()['users'][0]['crm_id'])\n",
    "print(\"twitter_id: \" + res.json()['users'][0]['twitter_id'])\n",
    "print(\"feedback_type: \" + res.json()['users'][0]['feedback_type'])\n",
    "print()"
   ]
  },
  {
   "cell_type": "code",
   "execution_count": 9,
   "metadata": {
    "collapsed": false,
    "deletable": true,
    "editable": true
   },
   "outputs": [
    {
     "data": {
      "text/plain": [
       "dict_keys(['temp_id', 'link_id', 'title', 'full_text', 'popularity', 'domain', 'source', 'published_at', 'summary', 'im', 'keywords', 'url'])"
      ]
     },
     "execution_count": 9,
     "metadata": {},
     "output_type": "execute_result"
    }
   ],
   "source": [
    "res.json()['users'][0]['news'][0].keys()"
   ]
  },
  {
   "cell_type": "markdown",
   "metadata": {
    "deletable": true,
    "editable": true
   },
   "source": [
    "(Attention: returned object includes more information (above), but for simplicity we only printed some (below))"
   ]
  },
  {
   "cell_type": "code",
   "execution_count": 15,
   "metadata": {
    "collapsed": false,
    "deletable": true,
    "editable": true
   },
   "outputs": [
    {
     "name": "stdout",
     "output_type": "stream",
     "text": [
      "temp_id: 4\n",
      "url: https://techxplore.com/news/2018-03-raspberry-pi-latest-member-price.html\n",
      "summary: Say hello to the new Raspberry Pi 3 Model B+.\n",
      "\"This latest iteration has the same footprint as both the Raspberry Pi 2 Model B and Raspberry Pi 3 Model B, which means it's about the size of a deck of cards,\" said Darrell Etherington in TechCrunch.\n",
      "It's a new version of the Raspberry Pi Model B, and an applauded upgrade by many.\n",
      "Raspberry Pi 3 Model B+ is available now for the same $35 price.\n",
      "Upton said, all in all, that, with the Raspberry Pi 3 Model B+, they rolled up fixes and came up with a neater, tidier-looking board.\n",
      "\n",
      "temp_id: 5\n",
      "url: http://health-miracle.com/big-data-suggests-big-potential-for-urban-farming/\n",
      "summary: Taken together, these fringe benefits make metropolitan farming worth as much as$160 billion every year around the world.\n",
      "”“ This is the very first worldwide price quote of the capacity for metropolitan farming, ” Costanza composed in an e-mail.\n",
      "”Meanwhile, policy in the United States and globally is currently altering to accommodate and motivate metropolitan farming.\n",
      "And after that there are a lot of techniques to city farming.\n",
      "“ I put on ’ t think that city farming is ever going to change more standard farming, ” he stated.\n",
      "\n",
      "temp_id: 6\n",
      "url: https://www.packtpub.com/packt/offers/free-learning\n",
      "summary: Time is running out to claim this free ebookSmart Internet of Things ProjectsDiscover how to build your own smart Internet of Things projects and bring a new degree of interconnectivity to your world\n",
      "\n"
     ]
    }
   ],
   "source": [
    "for news in res.json()['users'][0]['news']:\n",
    "    print(\"temp_id: \" + str(news['temp_id']))\n",
    "    print(\"url: \" + news['url'])\n",
    "    print(\"summary: \" + news['summary'])\n",
    "    print()"
   ]
  },
  {
   "cell_type": "markdown",
   "metadata": {
    "collapsed": true,
    "deletable": true,
    "editable": true
   },
   "source": [
    "### Send Feedback"
   ]
  },
  {
   "cell_type": "markdown",
   "metadata": {
    "deletable": true,
    "editable": true
   },
   "source": [
    "After receiveng news and feedback_type from the API endpoint, OutSight can now show multiple news or just one specific news to the user with the proper feedback input according to the feedback_type."
   ]
  },
  {
   "cell_type": "markdown",
   "metadata": {
    "deletable": true,
    "editable": true
   },
   "source": [
    "The feedback_type of the news is stated as **rate_1_to_5** which means that it requires an integer from 1 to 5 where 1 corresponds to bad and 5 corresponds the good."
   ]
  },
  {
   "cell_type": "markdown",
   "metadata": {
    "deletable": true,
    "editable": true
   },
   "source": [
    "To send the feedback of the user to the InSight system OutSight must specify 3 things:\n",
    "* **crm_id** of the user which gives feedback\n",
    "* **feedback** according to the feedback_type\n",
    "* **temp_id** of the content."
   ]
  },
  {
   "cell_type": "markdown",
   "metadata": {
    "deletable": true,
    "editable": true
   },
   "source": [
    "**temp_id** is an id that is assigned to each content daily when they are created. As it is name suggests, it is a **temporary id**. A content obtains a **permanent id** when a feedback is sent to the system for this content. The real permanent **content_id** can be obtained after the feedback is sent where you can find the process below."
   ]
  },
  {
   "cell_type": "markdown",
   "metadata": {
    "deletable": true,
    "editable": true
   },
   "source": [
    "**temp_id**: 4\n",
    "\n",
    "**url:** https://techxplore.com/news/2018-03-raspberry-pi-latest-member-price.html\n",
    "\n",
    "**summary:** Say hello to the new Raspberry Pi 3 Model B+.\n",
    "\"This latest iteration has the same footprint as both the Raspberry Pi 2 Model B and Raspberry Pi 3 Model B, which means it's about the size of a deck of cards,\" said Darrell Etherington in TechCrunch.\n",
    "It's a new version of the Raspberry Pi Model B, and an applauded upgrade by many.\n",
    "Raspberry Pi 3 Model B+ is available now for the same $35 price.\n",
    "Upton said, all in all, that, with the Raspberry Pi 3 Model B+, they rolled up fixes and came up with a neater, tidier-looking board."
   ]
  },
  {
   "cell_type": "code",
   "execution_count": 40,
   "metadata": {
    "collapsed": false,
    "deletable": true,
    "editable": true
   },
   "outputs": [],
   "source": [
    "import requests\n",
    "\n",
    "insightIP = 'http://178.62.229.16'\n",
    "insightPort = '8484'\n",
    "insightVersion = 'v1.1'\n",
    "\n",
    "# parameters of send_feedback are crm_id, temp_id, feedback and api_key\n",
    "crm_id = 135574293\n",
    "temp_id = 4\n",
    "feedback = 5\n",
    "api_key = \"\" #needs to be filled\n",
    "\n",
    "insightSetting = insightIP + ':' + insightPort + '/api/' + insightVersion \n",
    "request = '/feedback/send_feedback?'+'crm_id='+str(crm_id)+'&temp_id='+str(temp_id)+'&feedback='+str(feedback)+'&api_key='+api_key\n",
    "\n",
    "# send a request\n",
    "res = requests.get(insightSetting + request)"
   ]
  },
  {
   "cell_type": "markdown",
   "metadata": {
    "deletable": true,
    "editable": true
   },
   "source": [
    "OutSight chose the content with **temp_id** with **4** to show the user and the user gave **5** as a feedback."
   ]
  },
  {
   "cell_type": "code",
   "execution_count": 41,
   "metadata": {
    "collapsed": false,
    "deletable": true,
    "editable": true
   },
   "outputs": [
    {
     "data": {
      "text/plain": [
       "{'DateTime': '2018-04-10 13:07:11',\n",
       " 'content_id': 25,\n",
       " 'crm_id': '135574293',\n",
       " 'feedback': '5',\n",
       " 'feedback_id': 27,\n",
       " 'feedback_type': 'rate_1_to_5'}"
      ]
     },
     "execution_count": 41,
     "metadata": {},
     "output_type": "execute_result"
    }
   ],
   "source": [
    "res.json()"
   ]
  },
  {
   "cell_type": "markdown",
   "metadata": {
    "deletable": true,
    "editable": true
   },
   "source": [
    "As you can see above, when the **send feedback** API endpoint is succesful, it returns very useful information including the permanent **content_id** of the sent content.\n",
    "\n",
    "For example, if the same content is sent with a different temp_id, InSight API recognizes this content and returns the same permanent **content_id**.\n",
    "\n",
    "(!Attention: send_feedback API always works with **temp_id**. It only return **content_id** to give information back to the caller)"
   ]
  }
 ],
 "metadata": {
  "anaconda-cloud": {},
  "kernelspec": {
   "display_name": "Python 3",
   "language": "python",
   "name": "python3"
  },
  "language_info": {
   "codemirror_mode": {
    "name": "ipython",
    "version": 3
   },
   "file_extension": ".py",
   "mimetype": "text/x-python",
   "name": "python",
   "nbconvert_exporter": "python",
   "pygments_lexer": "ipython3",
   "version": "3.6.0"
  }
 },
 "nbformat": 4,
 "nbformat_minor": 2
}
