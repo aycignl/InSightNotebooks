{
 "cells": [
  {
   "cell_type": "markdown",
   "metadata": {},
   "source": [
    "## URL Scraper\n",
    "\n",
    "This notebook gives information about a given website url."
   ]
  },
  {
   "cell_type": "code",
   "execution_count": 1,
   "metadata": {
    "collapsed": false
   },
   "outputs": [],
   "source": [
    "import requests\n",
    "import json\n",
    "\n",
    "insightIP = 'http://178.62.229.16'\n",
    "insightPort = '8484'\n",
    "insightVersion = 'v1.0'\n",
    "api_key = \"thisisinsightapikey\" #needs to be filled\n",
    "\n",
    "# parameters of url_scraper are url, and api_key\n",
    "url = \"https://www.nationalgeographic.com/science/space/solar-system/earth/\"\n",
    "\n",
    "insightSetting = insightIP + ':' + insightPort + '/api/' + insightVersion \n",
    "request = '/text_analytics/url_scraper?' + 'url=' + url + '&' + 'api_key=' + api_key\n",
    "\n",
    "# send a request\n",
    "res = requests.get(insightSetting + request)"
   ]
  },
  {
   "cell_type": "markdown",
   "metadata": {},
   "source": [
    "Recommendation News API endpoint returns **url**, **title**, **text**, **summary**, **keywords**, and **publish_date**."
   ]
  },
  {
   "cell_type": "code",
   "execution_count": 2,
   "metadata": {
    "collapsed": false
   },
   "outputs": [
    {
     "data": {
      "text/plain": [
       "dict_keys(['url', 'title', 'text', 'summary', 'keywords', 'publish_date'])"
      ]
     },
     "execution_count": 2,
     "metadata": {},
     "output_type": "execute_result"
    }
   ],
   "source": [
    "res.json().keys()"
   ]
  },
  {
   "cell_type": "code",
   "execution_count": 3,
   "metadata": {
    "collapsed": false
   },
   "outputs": [
    {
     "name": "stdout",
     "output_type": "stream",
     "text": [
      "url: https://www.nationalgeographic.com/science/space/solar-system/earth/\n",
      "title: Planet Earth Information, Facts, and News\n",
      "publish_date: 2017-01-18 00:00:00\n",
      "text: Earth, our home planet, is the only planet in its solar system known to harbor life. All of the things we need to survive are provided under a thin layer of atmosphere that separates us from the uninhabitable void of space.\n",
      "\n",
      "Earth is made up of complex, interactive systems that are often unpredictable. Air, water, land, and life—including humans—combine forces to create a constantly changing world.\n",
      "\n",
      "Solar System 101 How was our solar system born? Join scientists as they embark on a journey into the mesmerizing mysteries of space. Hear their expert theories, then decide for yourself.\n",
      "\n",
      "\n",
      "\n",
      "\n",
      "\n",
      "Viewing Earth from the unique perspective of space provides the opportunity to see Earth as a whole. Various satellites and spacecraft, including the Mars Rover and Cassini, which hails from Saturn, provide perspectives of the planet from the others in the solar system.\n",
      "\n",
      "Earth: Fast Facts\n",
      "\n",
      "Earth is the third planet from the sun and the fifth largest in the solar system.\n",
      "\n",
      "Earth is 92,955,820 miles (149,597,891 kilometers) away from the sun.\n",
      "\n",
      "At 7,917.5 miles (12,742 km), Earth's diameter is just a few hundred kilometers larger than that of Venus.\n",
      "\n",
      "The four seasons are a result of Earth's axis of rotation being tilted more than 23 degrees.\n",
      "\n",
      "The length of a year on Earth is 365 days, 6 hours, and 16 minutes.\n",
      "\n",
      "The length of a day on Earth is 23 hours and 56 minutes.\n",
      "\n",
      "Oceans at least 2.5 miles (4 kilometers) deep cover nearly 70 percent of Earth's surface.\n",
      "\n",
      "The minimum weather temperature on Earth is -126 degrees Fahrenheit (-87.8 degrees Celsius) and the maximum weather temperature on Earth is 136 degrees Fahrenheit (57.8 degrees Celsius).\n",
      "\n",
      "Fresh water exists in the liquid phase only within a narrow temperature span (32 to 212 degrees Fahrenheit/0 to 100 degrees Celsius). This temperature span is especially narrow when contrasted with the full range of temperatures found within the solar system (from -400 to 900 degrees Farenheit/-300 to 500 degrees Celcius).\n",
      "\n",
      "The presence and distribution of water vapor in the atmosphere is responsible for much of Earth's weather.\n",
      "\n",
      "Protective Atmosphere\n",
      "\n",
      "Near the surface, an ocean of air that consists of 78 percent nitrogen, 21 percent oxygen, and 1 percent other ingredients envelops us. This atmosphere affects Earth's long-term climate and short-term local weather; shields us from nearly all harmful radiation coming from the sun; and protects us from meteors as well. Satellites have revealed that the upper atmosphere actually swells by day and contracts by night due to solar activity.\n",
      "\n",
      "Our planet's rapid spin and molten nickel-iron core give rise to a magnetic field, which the solar wind distorts into a teardrop shape. The solar wind is a stream of charged particles continuously ejected from the sun. The magnetic field does not fade off into space, but has definite boundaries.\n",
      "\n",
      "View Images The silhouette of a woman is seen on a Norwegian island beneath the Northern Lights (aurora borealis).\n",
      "\n",
      "Photograph by Garcia Julien, Getty Images\n",
      "\n",
      "When charged particles from the solar wind become trapped in Earth's magnetic field, they collide with air molecules above our planet's magnetic poles. These air molecules then begin to glow and are known as the aurorae, or the Northern and Southern Lights.\n",
      "\n"
     ]
    }
   ],
   "source": [
    "print(\"url: \" + res.json()['url'])\n",
    "print(\"title: \" + res.json()['title'])\n",
    "print(\"publish_date: \" + res.json()['publish_date'])\n",
    "print(\"text: \" + res.json()['text'])\n",
    "print()"
   ]
  }
 ],
 "metadata": {
  "kernelspec": {
   "display_name": "Python 3",
   "language": "python",
   "name": "python3"
  },
  "language_info": {
   "codemirror_mode": {
    "name": "ipython",
    "version": 3
   },
   "file_extension": ".py",
   "mimetype": "text/x-python",
   "name": "python",
   "nbconvert_exporter": "python",
   "pygments_lexer": "ipython3",
   "version": "3.6.0"
  }
 },
 "nbformat": 4,
 "nbformat_minor": 2
}
