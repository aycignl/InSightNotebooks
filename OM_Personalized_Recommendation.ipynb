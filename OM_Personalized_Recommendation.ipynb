{
 "cells": [
  {
   "cell_type": "markdown",
   "metadata": {
    "deletable": true,
    "editable": true
   },
   "source": [
    "## OM Personalized Recommendation\n",
    "\n",
    "This service make personalized recommendations based on Twitter IDs or Capsule CRM IDs of users. <br>\n",
    "\n",
    "This service provides the followings\n",
    "\n",
    "* Recommend News\n",
    "* Recommend Events"
   ]
  },
  {
   "cell_type": "markdown",
   "metadata": {
    "deletable": true,
    "editable": true
   },
   "source": [
    "### Recommend News\n",
    "\n",
    "Recommends personalized news. In parameters, twitter_ids or crm_ids is required."
   ]
  },
  {
   "cell_type": "code",
   "execution_count": 1,
   "metadata": {
    "collapsed": true,
    "deletable": true,
    "editable": true
   },
   "outputs": [],
   "source": [
    "import requests\n",
    "import json\n",
    "\n",
    "insightIP = 'http://178.62.229.16'\n",
    "insightPort = '8484'\n",
    "insightVersion = 'v1.1'\n",
    "api_key = \"\" #needs to be filled\n",
    "\n",
    "# parameters of news recommendation is crm_ids and api_key\n",
    "crm_ids = [135574293]\n",
    "\n",
    "insightSetting = insightIP + ':' + insightPort + '/api/' + insightVersion \n",
    "request = '/recommendation/news?' + 'crm_ids=' + str(crm_ids) + '&' + 'api_key=' + api_key\n",
    "\n",
    "# send a request\n",
    "res = requests.get(insightSetting + request)"
   ]
  },
  {
   "cell_type": "code",
   "execution_count": 2,
   "metadata": {
    "collapsed": false,
    "deletable": true,
    "editable": true
   },
   "outputs": [
    {
     "data": {
      "text/plain": [
       "{u'users': [{u'crm_id': u'135574293',\n",
       "   u'feedback_type': u'rate_1_to_5',\n",
       "   u'news': [{u'domain': u'techxplore',\n",
       "     u'full_text': u'Say hello to the new Raspberry Pi 3 Model B+. \"Alongside a 200MHz increase in peak CPU clock frequency, we have roughly three times the wired and wireless network throughput, and the ability to sustain high performance for much longer periods,\" according to Eben Upton.\\n\\n\"This latest iteration has the same footprint as both the Raspberry Pi 2 Model B and Raspberry Pi 3 Model B, which means it\\'s about the size of a deck of cards,\" said Darrell Etherington in TechCrunch.\\n\\nIt\\'s a new version of the Raspberry Pi Model B, and an applauded upgrade by many.\\n\\nLots of Raspberry Pi fans already making the most out of a little computer priced right for DIY enthusiasts have been posting comments to say they are pleased with the improvements.\\n\\nEE Journal talked about target users, saying \"the new board is the latest product in the Raspberry Pi 3 range and targets a very wide range of users including students and enthusiasts, as well as experienced engineers and professionals who are developing innovative Internet of Things (IoT) applications.\"\\n\\nRaspberry Pi 3 Model B+ is available now for the same $35 price. Also, wrote Ryan Whitwam in ExtremeTech, the board is still compatible with all existing Raspberry Pi 3 accessories.\\n\\nEben Upton, CEO, Raspberry Pi Trading, posted on the site\\'s blog: \"The new product is built around BCM2837B0, an updated version of the 64-bit Broadcom application processor used in Raspberry Pi 3B, which incorporates power integrity optimisations, and a heat spreader (that\\'s the shiny metal bit you can see in the photos).\"\\n\\nPaul Ridden in New Atlas described a Broadcom BCM2837B0 1.4 GHz 64-bit quad-core ARM Cortex-A53 system-on-chip. He also noted the heat spreader \"and power integrity tweaks allows for a 200 MHz increase in clock frequency, while also catering for improved accuracy in temperature monitoring and control.\"\\n\\nThink of it as a \"Plus\" version. Gigabit Ethernet with maximum transfer network speeds of up to 300 Mbps, or three times higher than that of the Model B, was noted in TechCrunch.\\n\\nUpton, wearing an Occupy Mars t-shirt, asked Roger Thornton, principal hardware engineer, to tell viewers in a posted video about the updated version. Thornton provided the details and also said the device has the same features\\u2014only they have been much improved.\\n\\nHe said this Plus version is not as big an overhaul as the original B+ was, but the Pi 3B+ does have improvements that make it distinct.\\n\\nTechCrunch: \"The dual-band Wi-Fi included on the board actually already has modular compliance certification, so it\\'s far easier to integrate his version of the Pi into end products design for consumer and commercial sale without having to do a load of testing and certification on the buyer\\'s end.\"\\n\\nPaul Miller in The Verge: \"The new board has a slightly faster 1.4 GHz quad-core processor, Bluetooth 4.2 (an upgrade from 4.1), and dual-band Wi-Fi. He added, \"I\\'m especially excited about the Wi-Fi upgrade.\"\\n\\nUpton said, all in all, that, with the Raspberry Pi 3 Model B+, they rolled up fixes and came up with a neater, tidier-looking board.\\n\\nIn the blog, he mentioned that \"Raspberry Pi 3B was our first product to support PXE Ethernet boot. Testing it in the wild shook out a number of compatibility issues with particular switches and traffic environments.\"',\n",
       "     u'im': u'https://3c1703fe8d.site.internapcdn.net/newman/gfx/news/hires/2018/raspberrypi3.jpg',\n",
       "     u'keywords': [u'wifi',\n",
       "      u'version',\n",
       "      u'users',\n",
       "      u'b',\n",
       "      u'latest',\n",
       "      u'pi',\n",
       "      u'affordable',\n",
       "      u'product',\n",
       "      u'member',\n",
       "      u'3b',\n",
       "      u'price',\n",
       "      u'raspberry',\n",
       "      u'model',\n",
       "      u'board'],\n",
       "     u'link_id': 514773,\n",
       "     u'popularity': 28,\n",
       "     u'published_at': u'17-03-2018',\n",
       "     u'source': u'techxplore.com',\n",
       "     u'summary': u'Say hello to the new Raspberry Pi 3 Model B+.\\n\"This latest iteration has the same footprint as both the Raspberry Pi 2 Model B and Raspberry Pi 3 Model B, which means it\\'s about the size of a deck of cards,\" said Darrell Etherington in TechCrunch.\\nIt\\'s a new version of the Raspberry Pi Model B, and an applauded upgrade by many.\\nRaspberry Pi 3 Model B+ is available now for the same $35 price.\\nUpton said, all in all, that, with the Raspberry Pi 3 Model B+, they rolled up fixes and came up with a neater, tidier-looking board.',\n",
       "     u'temp_id': 4,\n",
       "     u'title': u'Raspberry Pi 3 Model B+ is latest member with same affordable price',\n",
       "     u'url': u'https://techxplore.com/news/2018-03-raspberry-pi-latest-member-price.html'},\n",
       "    {u'domain': u'health-miracle',\n",
       "     u'full_text': u'A MODIS Land Cover Type satellite picture of the United States, just like images examined by the scientists. Various colors suggest various land utilizes: red is city; intense green is deciduous broadleaf forest.\\n\\nThose numbers huge. Scientists hope they motivate other researchers, along with regional leaders and city organizers, to start to take metropolitan farming more seriously as a prospective force for sustainability.\\n\\nThe research study likewise takes a look at \\u201c environment services \\u201d related to city farming, consisting of decrease of the city heat-island impact, prevented stormwater overflow, nitrogen fixation, bug control, and energy cost savings. Taken together, these fringe benefits make metropolitan farming worth as much as$160 billion every year around the world. The principle of environment services has actually been around for years, however it is growing in appeal as a method to account, in financial terms, for the advantages that human beings get from healthy environments. Georgescu and his partners chose to examine the possible community services that might be offered through extensive adoption of city farming, something that had actually not been tried prior to.\\n\\nThe group started with satellite images, utilizing pre-existing analyses to identify which pixels in the images were most likely to represent plant life and city facilities. Taking a look at existing greenery in cities(it can be hard to identify, from satellite images, what \\u2019 s a park and exactly what \\u2019 s a farm ), along with ideal roofings, uninhabited land, and possible places for vertical farms, they produced a system for examining the advantages of so-called \\u201c natural capital \\u201d\\u2013 here, that indicates soil and plants\\u2013 on a country-wide and worldwide scale.\\n\\nBeyond the advantages we currently delight in from having street trees and parks in our cities, the scientists approximated that fully-realized metropolitan farming might offer as much as 15 billion kilowatt hours of yearly energy cost savings worldwide\\u2013 comparable to almost half the power created by photovoltaic panels in the United States. It might likewise sequester approximately 170,000 lots of nitrogen and avoid as much as 57 billion cubic meters of stormwater overflow,a significant source of contamination in streams and rivers.\\n\\n\\u201c We had no idea of exactly what we would discover till we established the algorithm and the designs and made the computation, \\u201d Georgescu stated. \\u201c And that work had actually never ever been done prior to. This is a benchmark research study, and our hope with this work is that others now understand exactly what sort of information to try to find. \\u201d\\n\\nRobert Costanza, a teacher of public law at Australian National University, cofounded the International Society for Ecological Economics and looks into sustainable urbanism and the financial relationship in between human beings and our environment. He called the research study( where he played no part )\\u201c a significant advance. \\u201d\\n\\n\\u201c This is the very first worldwide price quote of the capacity for metropolitan farming, \\u201d Costanza composed in an e-mail. \\u201c Urban farming will never ever feed the world, and this paper validates that, however the crucial point is that natural capital in cities can be significantly enhanced and thiswould produce a variety of advantages, not simply food. \\u201d\\n\\n\\u201c Urban farming will never ever feed the world \\u2026 however the essential point is that natural capital in cities can be greatly enhanced. \\u201d\\n\\nCostanza stated he wishes to see the scientists \\u2019 huge information approach ended up being basic in metropolitan preparation, as a method to figure out the very best balance in between city facilities and green area\\u2013 whether it \\u2019 s farms, wetlands, forests, or parks. That is the scientists&rsquo\\n\\n; hope too, and they \\u2019 ve launched their code to permit city organizers and other researchers to run their own information, particularly at the regional level.\\n\\n\\u201c Somebody, possibly in Romania, state, might simply plug their worths in which will produce regional quotes, \\u201d Georgescu stated. \\u201c If they have a grand vision of broadening some city or establishing with X quantity of readily available land where metropolitan farming can be grown, they can now measure these included co-benefits. \\u201d\\n\\nThat might be extremely important, stated Sabina Shaikh, director of the Program on the Global Environment at the University of Chicago, who investigates the metropolitan environment and the economics of ecological policy.\\n\\n\\u201c Ecosystem services is something that is extremely site-specific, \\u201d she stated. \\u201c But this research studymight assist individuals make contrasts a bit much better, especially policymakers who wish to analyze, \\u2018 What \\u2019 s the advantage of a park vs. food production? \\u2019 or some mix of things. It doesn \\u2019 t always indicate, since it has the fringe benefit of food production, that a farm is going to be more extremely valued than a park. It provides policymakers another tool, another thing to think about. \\u201d\\n\\nMeanwhile, policy in the United States and globally is currently altering to accommodate and motivate metropolitan farming. California, for instance, passed its Urban Agriculture Incentive Zones Act in 2014, enabling landowners who put city plots into farming usage to score important tax breaks. The concept has actually shown questionable\\u2013 specifically in housing-starved San Francisco . Beyond raising leas, critics have actually argued that metropolitan farming, if it restrains advancement of real estate, might minimize density, adding to the sort of sprawl that forces individuals to drive their cars and trucks more. Put metropolitan farms in the incorrect location, and an effort to decrease food \\u2019 s carbon footprint might have the opposite result.\\n\\nOn the other hand, companies like Gotham Greens that goal to broaden might still be obstructed by zoning\\u2013 Puri and his co-founders needed to deal with New York \\u2019 s zoning authority to alter policies impacting greenhouses prior to they might open their very first farm. As the business seeks to include websites in other cities, the broad variety of their zoning guidelines, energy gain access to, and policies will affect its choices.\\n\\n\\u201c I believe we might take advantage of more cohesive policy, \\u201d Puri stated, \\u201c however it \\u2019 s likewise a brand-new market. And after that there are a lot of techniques to city farming. How does a city method something that is varied and so broad at this phase? \\u201d\\n\\nWhile more information about the possible community services and tradeoffs would definitely assist produce a more accessible regulative landscape, Puri, like others in his market, is likewise something of an evangelist, excited to put in a word for city farming \\u2019 s less measurable advantages.\\n\\n\\u201c I put on \\u2019 t think that city farming is ever going to change more standard farming, \\u201d he stated. \\u201c I put on \\u2019 t believe a city is going to have the ability to produce its whole food supply within city limitations, however I believe it can contribute in bringing individuals more detailed to their food, and in making our cities more fascinating and varied and green. \\u201d',\n",
       "     u'im': u'http://health-miracle.com/wp-content/uploads/2018/03/463dc3b2089a606c8bd28e30e06fff75.jpeg',\n",
       "     u'keywords': [u'urban',\n",
       "      u'metropolitan',\n",
       "      u'big',\n",
       "      u'farming',\n",
       "      u'food',\n",
       "      u's',\n",
       "      u'potential',\n",
       "      u'environment',\n",
       "      u'stated',\n",
       "      u'advantages',\n",
       "      u'services',\n",
       "      u'cities',\n",
       "      u'city',\n",
       "      u'data',\n",
       "      u'suggests'],\n",
       "     u'link_id': 514049,\n",
       "     u'popularity': 3,\n",
       "     u'published_at': None,\n",
       "     u'source': u'health-miracle.com',\n",
       "     u'summary': u'Taken together, these fringe benefits make metropolitan farming worth as much as$160 billion every year around the world.\\n\\u201d\\u201c This is the very first worldwide price quote of the capacity for metropolitan farming, \\u201d Costanza composed in an e-mail.\\n\\u201dMeanwhile, policy in the United States and globally is currently altering to accommodate and motivate metropolitan farming.\\nAnd after that there are a lot of techniques to city farming.\\n\\u201c I put on \\u2019 t think that city farming is ever going to change more standard farming, \\u201d he stated.',\n",
       "     u'temp_id': 5,\n",
       "     u'title': u'Big Data Suggests Big Potential for Urban Farming',\n",
       "     u'url': u'http://health-miracle.com/big-data-suggests-big-potential-for-urban-farming/'},\n",
       "    {u'domain': u'packtpub',\n",
       "     u'full_text': u'Time is running out to claim this free ebook\\n\\nSmart Internet of Things Projects\\n\\nDiscover how to build your own smart Internet of Things projects and bring a new degree of interconnectivity to your world',\n",
       "     u'im': u'https://d255esdrn735hr.cloudfront.net/sites/default/files/imagecache/dotd_main_image/66518OS_5336_Internet of Things with Arduino Cookbook.jpg',\n",
       "     u'keywords': [u'ebooks',\n",
       "      u'projects',\n",
       "      u'internet',\n",
       "      u'free',\n",
       "      u'learning',\n",
       "      u'running',\n",
       "      u'programming',\n",
       "      u'projectsdiscover',\n",
       "      u'things',\n",
       "      u'ebooksmart',\n",
       "      u'interconnectivity',\n",
       "      u'world',\n",
       "      u'smart'],\n",
       "     u'link_id': 273080,\n",
       "     u'popularity': 31,\n",
       "     u'published_at': None,\n",
       "     u'source': u'www.packtpub.com',\n",
       "     u'summary': u'Time is running out to claim this free ebookSmart Internet of Things ProjectsDiscover how to build your own smart Internet of Things projects and bring a new degree of interconnectivity to your world',\n",
       "     u'temp_id': 6,\n",
       "     u'title': u'Free Learning - Free Programming eBooks',\n",
       "     u'url': u'https://www.packtpub.com/packt/offers/free-learning'}],\n",
       "   u'twitter_id': u'323040062'}]}"
      ]
     },
     "execution_count": 2,
     "metadata": {},
     "output_type": "execute_result"
    }
   ],
   "source": [
    "# show the response in JSON format\n",
    "res.json()"
   ]
  },
  {
   "cell_type": "markdown",
   "metadata": {
    "deletable": true,
    "editable": true
   },
   "source": [
    "### Recommend Events\n",
    "\n",
    "Recommends personalized events. In parameters, twitter_ids or crm_ids is required."
   ]
  },
  {
   "cell_type": "code",
   "execution_count": 3,
   "metadata": {
    "collapsed": true,
    "deletable": true,
    "editable": true
   },
   "outputs": [],
   "source": [
    "import requests\n",
    "import json\n",
    "\n",
    "insightIP = 'http://178.62.229.16'\n",
    "insightPort = '8484'\n",
    "insightVersion = 'v1.1'\n",
    "api_key = \"\" #needs to be filled\n",
    "\n",
    "# parameters of news recommendation is crm_ids and api_key\n",
    "crm_ids = [135574293]\n",
    "\n",
    "insightSetting = insightIP + ':' + insightPort + '/api/' + insightVersion \n",
    "request = '/recommendation/events?' + 'crm_ids=' + str(crm_ids) + '&' + 'api_key=' + api_key\n",
    "\n",
    "# send a request\n",
    "res = requests.get(insightSetting + request)"
   ]
  },
  {
   "cell_type": "code",
   "execution_count": 4,
   "metadata": {
    "collapsed": false,
    "deletable": true,
    "editable": true
   },
   "outputs": [
    {
     "data": {
      "text/plain": [
       "{u'users': [{u'crm_id': u'135574293',\n",
       "   u'events': [{u'coming': -1,\n",
       "     u'cover': u'https://img.evbuc.com/https%3A%2F%2Fcdn.evbuc.com%2Fimages%2F39999338%2F107370254209%2F1%2Foriginal.jpg?s=338b5444e407858a92db86ee73573223',\n",
       "     u'description': {u'html': u'<P><SPAN><STRONG>8 Week Class -- Tuesdays from February 27 - April 17, 2018</STRONG></SPAN></P>\\n<P><SPAN>Arduino is the platform of software and hardware that lets you build and program your own digital devices. It\\u2019s easy to learn, and backed by a dizzying array of community supported code and inexpensive components. In this 8 week course, we\\u2019ll focus both on instruction and assistance in building your own project. We want you to come away with your own unique creation, so come prepared with crazy ideas! Beginners are welcome, as Arduino is easy to learn but still powerful for the advanced user. We\\u2019ll also take a look at WiFi ready hardware with ESP8266 or Raspberry Pi. You also get a part-time Hatch Membership so you can come work on your creations outside of class!</SPAN></P>\\n<P><SPAN>What can you build with Arduino? </SPAN><SPAN><A HREF=\"https://create.arduino.cc/projecthub\" TARGET=\"_blank\" REL=\"noreferrer noopener nofollow noopener noreferrer nofollow\">https://create.arduino.cc/projecthub</A></SPAN></P>\\n<P><STRONG>Topics Covered:</STRONG></P>\\n<P><SPAN>Arduino Programming</SPAN></P>\\n<P><SPAN>Circuit basics with breadboarding and soldering</SPAN></P>\\n<P><SPAN>Connecting sensors and input</SPAN></P>\\n<P><SPAN>Controlling motors, servos and LED lighting</SPAN></P>\\n<P><SPAN>Project planning: Brainstorming, researching, Amazon/eBay acquisition</SPAN></P>\\n<P><SPAN>ESP8266/Raspberry Pi: Upping your game with more powerful WiFi hardware</SPAN></P>\\n<P>You\\'ll need a laptop for a majority of these classes. If you do not have one, write Erica an email (erica@hatchathens.com) and she\\'ll secure you one to use for the duration of this class.</P>\\n<P><STRONG>FAQs</STRONG></P>\\n<P><STRONG>Are there ID or minimum age requirements to enter the event?</STRONG></P>\\n<P>No ID is required,\\xa0however\\xa0this class is designed for \"adults 16+.\" In this case \"adults\" means if you can drive yourself to the class, you can register. Participants under the age of 18 will require a guardian\\'s signature for their waivers.</P>\\n<P>If children or siblings of a close age wish to participate together, there may be possible exceptions. However, we do have a Kids STEAM (Science, Technology, Engineering, Art, and Math) Class on Mondays if you have younger kids interested.\\xa0</P>\\n<P><STRONG>What are my transportation/parking options for getting to and from the event?</STRONG></P>\\n<P>We are located in Chase Park Warehouses beside the Tree Room. Our sign and door are out front.\\xa0</P>\\n<P><STRONG>How can I contact the organizer with any questions?</STRONG></P>\\n<P>Shoot an email over to erica@hatchathens.com</P>\\n<P><STRONG>What\\'s the refund policy?</STRONG></P>\\n<P>Due to the length of this course as well as the limited space, you have until 3 days prior to the start of class to request a refund. We understand that dire circumstances come up, however. If you have an emergency, contact Erica and she will work with you to get things sorted out.</P>\\n<P><STRONG>Do I need to bring anything\\xa0for\\xa0the class?</STRONG></P>\\n<P>Your registration fee covers the basic materials needed for the class. However, a laptop computer is needed for a majority of these classes. If you do not have your own laptop, contact Erica (erica@hatchathens.com) beforehand and she will attempt to secure a laptop for your use duing class.</P>\\n<P><STRONG>Do I need any previous experience?</STRONG></P>\\n<P>NO! You do not need to have ANY electronics experience or technology experience. You do not even need to have a project in mind that you\\'d like to make. This class is designed to give you the basic skills needed to start building devices and programming with Arduino and beyond.\\xa0</P>\\n<P><BR></P>',\n",
       "      u'text': u'8 Week Class -- Tuesdays from February 27 - April 17, 2018\\nArduino is the platform of software and hardware that lets you build and program your own digital devices. It\\u2019s easy to learn, and backed by a dizzying array of community supported code and inexpensive components. In this 8 week course, we\\u2019ll focus both on instruction and assistance in building your own project. We want you to come away with your own unique creation, so come prepared with crazy ideas! Beginners are welcome, as Arduino is easy to learn but still powerful for the advanced user. We\\u2019ll also take a look at WiFi ready hardware with ESP8266 or Raspberry Pi. You also get a part-time Hatch Membership so you can come work on your creations outside of class!\\nWhat can you build with Arduino? https://create.arduino.cc/projecthub\\nTopics Covered:\\nArduino Programming\\nCircuit basics with breadboarding and soldering\\nConnecting sensors and input\\nControlling motors, servos and LED lighting\\nProject planning: Brainstorming, researching, Amazon/eBay acquisition\\nESP8266/Raspberry Pi: Upping your game with more powerful WiFi hardware\\nYou\\'ll need a laptop for a majority of these classes. If you do not have one, write Erica an email (erica@hatchathens.com) and she\\'ll secure you one to use for the duration of this class.\\nFAQs\\nAre there ID or minimum age requirements to enter the event?\\nNo ID is required,\\xa0however\\xa0this class is designed for \"adults 16+.\" In this case \"adults\" means if you can drive yourself to the class, you can register. Participants under the age of 18 will require a guardian\\'s signature for their waivers.\\nIf children or siblings of a close age wish to participate together, there may be possible exceptions. However, we do have a Kids STEAM (Science, Technology, Engineering, Art, and Math) Class on Mondays if you have younger kids interested.\\xa0\\nWhat are my transportation/parking options for getting to and from the event?\\nWe are located in Chase Park Warehouses beside the Tree Room. Our sign and door are out front.\\xa0\\nHow can I contact the organizer with any questions?\\nShoot an email over to erica@hatchathens.com\\nWhat\\'s the refund policy?\\nDue to the length of this course as well as the limited space, you have until 3 days prior to the start of class to request a refund. We understand that dire circumstances come up, however. If you have an emergency, contact Erica and she will work with you to get things sorted out.\\nDo I need to bring anything\\xa0for\\xa0the class?\\nYour registration fee covers the basic materials needed for the class. However, a laptop computer is needed for a majority of these classes. If you do not have your own laptop, contact Erica (erica@hatchathens.com) beforehand and she will attempt to secure a laptop for your use duing class.\\nDo I need any previous experience?\\nNO! You do not need to have ANY electronics experience or technology experience. You do not even need to have a project in mind that you\\'d like to make. This class is designed to give you the basic skills needed to start building devices and programming with Arduino and beyond.\\xa0\\n'},\n",
       "     u'end_time': 1524002400.0,\n",
       "     u'id': u'42292904215',\n",
       "     u'interested': -1,\n",
       "     u'link': u'https://www.eventbrite.com/e/arduino-programming-tickets-42292904215?aff=ebapi',\n",
       "     u'name': u'ARDUINO Programming',\n",
       "     u'place': u'Athens, US',\n",
       "     u'start_time': u'2018-02-27',\n",
       "     u'temp_id': 1675,\n",
       "     u'updated_time': u'2018-02-28T01:29:26+0000'},\n",
       "    {u'coming': 0,\n",
       "     u'cover': u'https://scontent.xx.fbcdn.net/v/t31.0-0/q87/p180x540/28161775_10155595096414790_4604816222780950807_o.jpg?oh=b7c36b97af07bd704455f316bbb3ee83&oe=5B1416AB',\n",
       "     u'end_time': 1528754400.0,\n",
       "     u'id': u'2013815338841024',\n",
       "     u'interested': 68,\n",
       "     u'link': u'https://www.facebook.com/events/2013815338841024',\n",
       "     u'name': u'Urban Farming: \\u0395\\u03c1\\u03b3\\u03b1\\u03c3\\u03c4\\u03ae\\u03c1\\u03b9\\u03bf \\u0391\\u03c3\\u03c4\\u03b9\\u03ba\\u03ae\\u03c2 \\u0392\\u03b9\\u03bf\\u03bb\\u03bf\\u03b3\\u03b9\\u03ba\\u03ae\\u03c2 \\u039a\\u03b1\\u03bb\\u03bb\\u03b9\\u03ad\\u03c1\\u03b3\\u03b5\\u03b9\\u03b1\\u03c2',\n",
       "     u'place': u'Kifissia, Greece',\n",
       "     u'start_time': u'2018-02-13',\n",
       "     u'temp_id': 1676,\n",
       "     u'updated_time': u'2018-02-22T07:28:57+0000'},\n",
       "    {u'coming': -1,\n",
       "     u'cover': u'https://img.evbuc.com/https%3A%2F%2Fcdn.evbuc.com%2Fimages%2F32646640%2F2765405274%2F1%2Foriginal.jpg?s=f38d2351f128c3d8fcb0d01918ec1d56',\n",
       "     u'description': {u'html': u'<P STYLE=\"text-align: center;\"><IMG STYLE=\"vertical-align: middle; margin: 5px;\" ALT=\"\" SRC=\"https://cdn.evbuc.com/eventlogos/181168144/dentistrylockupstackedaggiemarooncmyk.jpg\" HEIGHT=\"145\" WIDTH=\"250\"></P>\\r\\n<P><STRONG>The 4th Annual \\xa0Dental Implant Continuum \\xa02017-2018- Part 1: \\xa0First Live Surgical Opportunity</STRONG></P>\\r\\n<P><STRONG>A Comprehensive University Based Implant Educational Program- Lecture, Lab and Live Patient Care</STRONG></P>\\r\\n<P><STRONG>\\xa0 \\xa0 \\xa0 \\xa0 \\xa0 \\xa0 \\xa0 \\xa0 Registration Closing August 25, 2017 \\xa0 \\xa0 Limited Attendance to 14 Doctors</STRONG></P>\\r\\n<P><STRONG><IMG ALT=\"\" SRC=\"https://cdn.evbuc.com/eventlogos/181168144/implantcontinuum2017working.jpg\" HEIGHT=\"400\" WIDTH=\"500\"></STRONG></P>\\r\\n<P><STRONG>Course Summary</STRONG></P>\\r\\n<P><SPAN><IMG STYLE=\"float: left; margin: 5px;\" ALT=\"\" SRC=\"https://cdn.evbuc.com/eventlogos/181168144/c11.jpg\" HEIGHT=\"333\" WIDTH=\"250\">The New Dental Implant Continuum offers a comprehensive educational experience for the dental practitioner interested in learning to surgically place and restore dental implants. With many educational choices to select from, this program is unique in many facets, providing a solid basic science understanding of the biology of osseointegration and using this understanding to achieve clinical success in practice.</SPAN></P>\\r\\n<P><SPAN>Take your dental implant skills to the next level and empower your practice to provide exceptional dental implant care for your patients. With the number of fully and partially edentulous patients on the rise in the years to come, your educational experience with the Texas A&M faculty and\\xa0 faculty/private practice skilled surgical and restorative team leaders will help enhance your clinical skills and steer you along the pathway to clinical success.</SPAN></P>\\r\\n<P><SPAN>This course offers lectures and clinical treatment as attendees surgically place dental implants on their patients. This is an exciting time in implant dentistry for all doctors. Register for this first surgical opportunity bundled with the second surgery and advanced continuum for a discounted registration fee.\\xa0 <EM><STRONG>Faculty leaders will be fully disclosing any conflict of interests as they begin their lectures and have signed speaker agreements to disclose any conflict of interest.</STRONG></EM></SPAN></P>\\r\\n<P><STRONG>Course Overview\\xa0</STRONG></P>\\r\\n<P><SPAN>September 15, 2017, Friday- 1 Day\\xa0</SPAN></P>\\r\\n<UL>\\r\\n<LI><STRONG>Module 1 Surgical Implant Track</STRONG> | Introduction to Dental Implant Surgical Technique with Dr. Raed Ajlouni and Dr. Khal Ajlouni -Lecture and hands-on-this is a prerequisite for the live patient surgery.</LI>\\r\\n<LI>Important Lecture Topics:\\xa0</LI>\\r\\n<LI><SPAN STYLE=\"font-family: \\'Helvetica Neue\\', Helvetica, Arial, sans-serif; font-size: x-small;\">This module will focus on the introduction to dental implants to include anatomy, radiology, treatment planning with fabrication of radiographic and surgical guides, sterile technique, surgical lectures, hands-on laboratory for surgical and restorative techniques, SAC principals, basic review of restorative options for dental implants. Printed 3-D models and actual guided surgical guides will be available for attendees will meet their patients to actually try the guided surgical guide in. Attendees will learn to read and review CBCT and surgical guides prior to the surgery for the next module.</SPAN></LI>\\r\\n</UL>\\r\\n<P>\\xa0</P>\\r\\n<P>October 13-14, 2017, Friday and Saturday- 2 Days\\xa0</P>\\r\\n<UL>\\r\\n<LI><STRONG>Module 2 Surgical Implant Track</STRONG> | Lecture, Lab, and Surgical Dental Implant Placement, live patient care with Dr. Farhad Boltchi, Dr. Amirali Zandinejad and faculty - Limited to 14 attendees</LI>\\r\\n<LI>Lecture and Live patient topics:</LI>\\r\\n<LI><SPAN STYLE=\"font-size: x-small;\">This module will involve surgical placement of dental implants on patients surgery in the AEGD Clinic on the 6th floor. The patients will be treated utilizing guided surgical guides for guided surgical protocol. \\xa0Lectures include review of surgical technique, management during the healing periods and immediate loading with provisionals when indicated. Participants should have diagnostic casts and prepared for temporization as treatment planned. Lectures on immediate load, atraumatic tooth extraction, ridge and site preservation techniques. You will work with bone grafting materials and guided surgical 3-D printed for guides for guided surgical guides and osstell implant stability measurements. Topics included are: socket preservation, bone grafting techniques, flap design, suture technique and types of materials to use, use of non resorbable and resorbable membranes. \\xa0Surgical techniques flap design, suturing, and special guided surgical protocol used. Restorative modules will include overdenture restorative technique and implant provisionals with custom healing abutments.</SPAN></LI>\\r\\n</UL>\\r\\n<P>February 9, 2018, Friday 1- Day\\xa0</P>\\r\\n<UL>\\r\\n<LI><STRONG>Bonus Module 3 - RestorativeTrack</STRONG>\\xa0| Lecture, Success with the Team Approach - Ms Tracy Butler-Bring a team member and involve your office team mates. \\xa0Special program by Straumann trained national speaker will enlighten you and your staff to manage dental implant patient for success by all team members in your office.</LI>\\r\\n</UL>\\r\\n<P>\\xa0</P>\\r\\n<P>March 10, 2018, Saturday- 1 Day</P>\\r\\n<UL>\\r\\n<LI><STRONG>Module 4: Restorative Implant Track</STRONG> | Advanced Restorative Considerations for Dental Implants, Live patient care for the final Implant restoration: digital scan/analog impression, entire digital workflow with Dr.Zandinejad and faculty - Limited to 14 attendees \\xa0 Restore the implant you place.</LI>\\r\\n<LI>Lecture Topics:</LI>\\r\\n<LI><SPAN STYLE=\"font-size: x-small;\">Topics included are: impression techniques with the use of digital scanning versus conventional open or closed\\xa0</SPAN><SPAN STYLE=\"font-size: x-small;\">tray impressions, torque requirements, abutment level or implant level analog impressions, and provisionalization. Implant scanning with digital milled custom abutments and zirconia/ti based restorations. Learn how the digital work flow of implant restorations are completed. \\xa0Learn to communicate with the laboratory for correct abutment design and materials used for final restorations.</SPAN></LI>\\r\\n</UL>\\r\\n<P>April 28, 2018, Saturday- 1 Day</P>\\r\\n<UL>\\r\\n<LI><STRONG>Module 5: \\xa0Restorative Implant Track</STRONG>\\xa0| Advanced Restorative Considerations for Dental Implants, Live patient care for the final Implant restoration delivery \\xa0with Dr. \\xa0Zandinejad, and faculty - Limited to 14 attendees</LI>\\r\\n<LI><SPAN STYLE=\"font-size: x-small;\">The last module focuses on delivery of the final restoration, occlusion, fitting/adjusting the restoration, cementation, screw retention, passive fit, torque requirements, occlusal guards, maintenance, and home care.</SPAN></LI>\\r\\n<LI><SPAN STYLE=\"font-size: x-small;\">Special considerations of the cement selection for final restoration will be reviewed.</SPAN></LI>\\r\\n<LI><SPAN STYLE=\"font-size: x-small;\">Complications and how to aviod problems are also presented.\\xa0</SPAN></LI>\\r\\n</UL>\\r\\n<HR>\\r\\n<P><STRONG>Course Information:</STRONG></P>\\r\\n<P><STRONG>Dates</STRONG>:</P>\\r\\n<UL>\\r\\n<LI><STRONG STYLE=\"line-height: 1.6em;\">Module 1</STRONG><SPAN STYLE=\"line-height: 1.6em;\">\\xa0September 15, 2017 1 day</SPAN></LI>\\r\\n<LI><STRONG STYLE=\"line-height: 1.6em;\">Module 2</STRONG><SPAN STYLE=\"line-height: 1.6em;\">\\xa0October 13-14, 2017 2 days</SPAN></LI>\\r\\n<LI><EM><STRONG><SPAN STYLE=\"line-height: 1.6em;\">Bonus Module 3: \\xa0</SPAN></STRONG></EM><SPAN STYLE=\"line-height: 1.6em;\">February 9, 2018: 1 day</SPAN><EM><STRONG><SPAN STYLE=\"line-height: 1.6em;\">\\xa0</SPAN></STRONG></EM></LI>\\r\\n<LI><STRONG STYLE=\"line-height: 1.6em;\">Module 4</STRONG><SPAN STYLE=\"line-height: 1.6em;\">\\xa0March 10, 2018 1 day</SPAN></LI>\\r\\n<LI><STRONG STYLE=\"line-height: 1.6em;\">Module 5</STRONG><SPAN STYLE=\"line-height: 1.6em;\">\\xa0April 28, 2018 1 day</SPAN></LI>\\r\\n</UL>\\r\\n<P><STRONG>Times</STRONG>:</P>\\r\\n<P>7:30 am - 8:00 am \\u2013 Registration/Breakfast<BR>8:00 am - 5:00 pm \\u2013 Presentation/Lecture/Clinic/Laboratory</P>\\r\\n<P><STRONG>Location</STRONG>: Texas A&M, \\xa0College of Dentistry, 6th Floor/Gross Anatomy Laboratory, AEGD Clinic</P>\\r\\n<P><STRONG>Prerequisites</STRONG>: Must be a USA Licensed dentist and have valid malpractice, immunizations, CPR, HIPAA training. \\xa0Interest in surgical and restorative aspect of dental implant treatment options, some surgical experience with tooth extractions. This is a great course for the practitioner interested in beginning to provide implant surgery in the office or a great opportunity for a doctor with some experience to gain confidence and skill in both surgical and restorative implant procedures.</P>\\r\\n<P><STRONG>Credit</STRONG>: 48 hours lecture/hands-on and Live patient care.\\xa0 The teaching methods for this program include lecture, video review of surgical and restorative techniques, laboratory hands-on with one on one training from surgical and restorative faculty, and live patient care where patients are provided for att endees who have the credentials required for treating patients at Texas A&M University, College of Dentistry.</P>\\r\\n<P><STRONG>Course Fee</STRONG>: $9,750 Dentists; $450/module \\xa0RDH or Aux. Tuition must be paid in full by Friday, August 4, 2017 to participate. \\xa0Register for both Part I and Part II \\xa0continuums and save.</P>\\r\\n<P><STRONG>AGD Codes</STRONG>: 742: Medical Health History/Factor, 695 Implant Restorative, 696 Implant Surgical Stent, 697 \\xa0 \\xa0 \\xa0 \\xa0</P>\\r\\n<P>Diagnosis and Treatment Planning, 698 Implant Materials, 704 Implant Placement Surgery, 318 Bone Grafting and GTR Surgery, 693 Implant Maintenance</P>\\r\\n<P><EM><STRONG>Full breakfast and lunch provided each course day- Let us know of any dietary restrictions</STRONG></EM></P>\\r\\n<P><STRONG>Course Topics and Objectives:</STRONG></P>\\r\\n<P>Upon completion of the course, participants will be able to understand and perform the following:</P>\\r\\n<UL>\\r\\n<LI><SPAN STYLE=\"line-height: 1.6em;\">Detailed discussion of pertinent clinical and radiographic anatomy</SPAN></LI>\\r\\n<LI><SPAN STYLE=\"line-height: 1.6em;\">Prepare radiographic guide based on CBCT review</SPAN></LI>\\r\\n<LI><SPAN STYLE=\"line-height: 1.6em;\">Anesthesia issues, instrumentation and understanding of proper sterile technique</SPAN></LI>\\r\\n<LI><SPAN STYLE=\"line-height: 1.6em;\">Basic surgical procedures explained and demonstrated</SPAN></LI>\\r\\n<LI><SPAN STYLE=\"line-height: 1.6em;\">Surgical and prosthodontic considerations including incision design, fixture and abutment selection, occlusal considerations and force transmission</SPAN></LI>\\r\\n<LI><SPAN STYLE=\"line-height: 1.6em;\">Surgical guide template design and construction, hands-on</SPAN></LI>\\r\\n<LI><SPAN STYLE=\"line-height: 1.6em;\">Surgical hands-on laboratory experience, socket preservation and use of grafting materials and membranes</SPAN></LI>\\r\\n<LI><SPAN STYLE=\"line-height: 1.6em;\">Discussion of treatment of the partially and fully edentulous patient</SPAN></LI>\\r\\n<LI><SPAN STYLE=\"line-height: 1.6em;\">Actual clinical placement of dental implants in patients</SPAN></LI>\\r\\n<LI><SPAN STYLE=\"line-height: 1.6em;\">Actual restoration of the implant you place for assessment of final outcomes of all cases</SPAN></LI>\\r\\n</UL>\\r\\n<P><IMG ALT=\"Straumann logo - Sponsor\" SRC=\"https://cdn.evbuc.com/eventlogos/47683534/straumann-1.png\"></P>\\r\\n<P>This event is sponsored by Straumann Dental LLC. Sponsorship is provided for educational expenses related to this continuing education program.</P>\\r\\n<P>Straumann is a leading provider of solutions in implant dentistry and dental tissue regeneration. Our mission is to enable dental professionals to restore their patients\\u2019 oral function and esthetics through effective, reliable, and safe treatment methods.</P>\\r\\n<HR>\\r\\n<P><STRONG>TAMCOD Office of CE Registration Information, Certifications &amp; Cancellation/Refund policy:</STRONG></P>\\r\\n<P>Texas A&M University College of Dentistry is an <STRONG>ADA CERP Recognized Provider</STRONG>.</P>\\r\\n<P><STRONG>QUESTIONS</STRONG>: Please feel free to call us at 1-214-828-8238. For quickly response please email your questions through the online registration website</P>\\r\\n<P><STRONG>ADA CERP</STRONG> is a service of the American Dental Association to assist dental professionals in identifying quality providers of continuing dental education. ADA CERP does not approve or endorse individual courses or instructors, nor does it imply acceptance of credit hours by boards of dentistry.</P>\\r\\n<P>Cancellations must be submitted in writing, signed, and dated when received at Texas A&M University. If cancellations are made 60 days before the start of the program registration will be refunded. However if cancellation is made 30 days or less, the tuition will be credited toward a future course or 75% of the registration will be refunded.</P>\\r\\n<P>Concerns or complaints about a CE provider may be directed to the provider or to ADA CERP at www.ada.org/cerp. Continuing education credits issued for participation in the CE activity may not apply toward license renewal in all states/provinces. It is the responsibility of each participant to verify the requirements of his/her state/provincial licensing board(s).</P>\\r\\n<P><STRONG>CONFIRMATIONS</STRONG>: Will be sent by e-mailto the official email address provided by the attendee to the registration website. Exact email is necessary</P>\\r\\n<P><STRONG>REGISTRATION CANCELLATION:\\xa0</STRONG>Tuition is refundable if a course is canceled by the Office of CE. A $50 fee will be assessed for any course cancellation. All payments by check or cash are deposited into the Texas A&M account and CANNOT be refunded. \\u201cNo Shows\\u201d for a course forfeit all tuition. Partial Refund may be given only 45 days prior to September 15, 2017. \\xa0Confirm notification of cancellation must be received in writing by e-mail.The CE Office cannot be held responsible for a non-refundable airline ticket.</P>',\n",
       "      u'text': u'\\r\\nThe 4th Annual \\xa0Dental Implant Continuum \\xa02017-2018- Part 1: \\xa0First Live Surgical Opportunity\\r\\nA Comprehensive University Based Implant Educational Program- Lecture, Lab and Live Patient Care\\r\\n\\xa0 \\xa0 \\xa0 \\xa0 \\xa0 \\xa0 \\xa0 \\xa0 Registration Closing August 25, 2017 \\xa0 \\xa0 Limited Attendance to 14 Doctors\\r\\n\\r\\nCourse Summary\\r\\nThe New Dental Implant Continuum offers a comprehensive educational experience for the dental practitioner interested in learning to surgically place and restore dental implants. With many educational choices to select from, this program is unique in many facets, providing a solid basic science understanding of the biology of osseointegration and using this understanding to achieve clinical success in practice.\\r\\nTake your dental implant skills to the next level and empower your practice to provide exceptional dental implant care for your patients. With the number of fully and partially edentulous patients on the rise in the years to come, your educational experience with the Texas A&M faculty and\\xa0 faculty/private practice skilled surgical and restorative team leaders will help enhance your clinical skills and steer you along the pathway to clinical success.\\r\\nThis course offers lectures and clinical treatment as attendees surgically place dental implants on their patients. This is an exciting time in implant dentistry for all doctors. Register for this first surgical opportunity bundled with the second surgery and advanced continuum for a discounted registration fee.\\xa0 Faculty leaders will be fully disclosing any conflict of interests as they begin their lectures and have signed speaker agreements to disclose any conflict of interest.\\r\\nCourse Overview\\xa0\\r\\nSeptember 15, 2017, Friday- 1 Day\\xa0\\r\\n\\r\\nModule 1 Surgical Implant Track | Introduction to Dental Implant Surgical Technique with Dr. Raed Ajlouni and Dr. Khal Ajlouni -Lecture and hands-on-this is a prerequisite for the live patient surgery.\\r\\nImportant Lecture Topics:\\xa0\\r\\nThis module will focus on the introduction to dental implants to include anatomy, radiology, treatment planning with fabrication of radiographic and surgical guides, sterile technique, surgical lectures, hands-on laboratory for surgical and restorative techniques, SAC principals, basic review of restorative options for dental implants. Printed 3-D models and actual guided surgical guides will be available for attendees will meet their patients to actually try the guided surgical guide in. Attendees will learn to read and review CBCT and surgical guides prior to the surgery for the next module.\\r\\n\\r\\n\\xa0\\r\\nOctober 13-14, 2017, Friday and Saturday- 2 Days\\xa0\\r\\n\\r\\nModule 2 Surgical Implant Track | Lecture, Lab, and Surgical Dental Implant Placement, live patient care with Dr. Farhad Boltchi, Dr. Amirali Zandinejad and faculty - Limited to 14 attendees\\r\\nLecture and Live patient topics:\\r\\nThis module will involve surgical placement of dental implants on patients surgery in the AEGD Clinic on the 6th floor. The patients will be treated utilizing guided surgical guides for guided surgical protocol. \\xa0Lectures include review of surgical technique, management during the healing periods and immediate loading with provisionals when indicated. Participants should have diagnostic casts and prepared for temporization as treatment planned. Lectures on immediate load, atraumatic tooth extraction, ridge and site preservation techniques. You will work with bone grafting materials and guided surgical 3-D printed for guides for guided surgical guides and osstell implant stability measurements. Topics included are: socket preservation, bone grafting techniques, flap design, suture technique and types of materials to use, use of non resorbable and resorbable membranes. \\xa0Surgical techniques flap design, suturing, and special guided surgical protocol used. Restorative modules will include overdenture restorative technique and implant provisionals with custom healing abutments.\\r\\n\\r\\nFebruary 9, 2018, Friday 1- Day\\xa0\\r\\n\\r\\nBonus Module 3 - RestorativeTrack\\xa0| Lecture, Success with the Team Approach - Ms Tracy Butler-Bring a team member and involve your office team mates. \\xa0Special program by Straumann trained national speaker will enlighten you and your staff to manage dental implant patient for success by all team members in your office.\\r\\n\\r\\n\\xa0\\r\\nMarch 10, 2018, Saturday- 1 Day\\r\\n\\r\\nModule 4: Restorative Implant Track | Advanced Restorative Considerations for Dental Implants, Live patient care for the final Implant restoration: digital scan/analog impression, entire digital workflow with Dr.Zandinejad and faculty - Limited to 14 attendees \\xa0 Restore the implant you place.\\r\\nLecture Topics:\\r\\nTopics included are: impression techniques with the use of digital scanning versus conventional open or closed\\xa0tray impressions, torque requirements, abutment level or implant level analog impressions, and provisionalization. Implant scanning with digital milled custom abutments and zirconia/ti based restorations. Learn how the digital work flow of implant restorations are completed. \\xa0Learn to communicate with the laboratory for correct abutment design and materials used for final restorations.\\r\\n\\r\\nApril 28, 2018, Saturday- 1 Day\\r\\n\\r\\nModule 5: \\xa0Restorative Implant Track\\xa0| Advanced Restorative Considerations for Dental Implants, Live patient care for the final Implant restoration delivery \\xa0with Dr. \\xa0Zandinejad, and faculty - Limited to 14 attendees\\r\\nThe last module focuses on delivery of the final restoration, occlusion, fitting/adjusting the restoration, cementation, screw retention, passive fit, torque requirements, occlusal guards, maintenance, and home care.\\r\\nSpecial considerations of the cement selection for final restoration will be reviewed.\\r\\nComplications and how to aviod problems are also presented.\\xa0\\r\\n\\r\\n\\r\\nCourse Information:\\r\\nDates:\\r\\n\\r\\nModule 1\\xa0September 15, 2017 1 day\\r\\nModule 2\\xa0October 13-14, 2017 2 days\\r\\nBonus Module 3: \\xa0February 9, 2018: 1 day\\xa0\\r\\nModule 4\\xa0March 10, 2018 1 day\\r\\nModule 5\\xa0April 28, 2018 1 day\\r\\n\\r\\nTimes:\\r\\n7:30 am - 8:00 am \\u2013 Registration/Breakfast8:00 am - 5:00 pm \\u2013 Presentation/Lecture/Clinic/Laboratory\\r\\nLocation: Texas A&M, \\xa0College of Dentistry, 6th Floor/Gross Anatomy Laboratory, AEGD Clinic\\r\\nPrerequisites: Must be a USA Licensed dentist and have valid malpractice, immunizations, CPR, HIPAA training. \\xa0Interest in surgical and restorative aspect of dental implant treatment options, some surgical experience with tooth extractions. This is a great course for the practitioner interested in beginning to provide implant surgery in the office or a great opportunity for a doctor with some experience to gain confidence and skill in both surgical and restorative implant procedures.\\r\\nCredit: 48 hours lecture/hands-on and Live patient care.\\xa0 The teaching methods for this program include lecture, video review of surgical and restorative techniques, laboratory hands-on with one on one training from surgical and restorative faculty, and live patient care where patients are provided for att endees who have the credentials required for treating patients at Texas A&M University, College of Dentistry.\\r\\nCourse Fee: $9,750 Dentists; $450/module \\xa0RDH or Aux. Tuition must be paid in full by Friday, August 4, 2017 to participate. \\xa0Register for both Part I and Part II \\xa0continuums and save.\\r\\nAGD Codes: 742: Medical Health History/Factor, 695 Implant Restorative, 696 Implant Surgical Stent, 697 \\xa0 \\xa0 \\xa0 \\xa0\\r\\nDiagnosis and Treatment Planning, 698 Implant Materials, 704 Implant Placement Surgery, 318 Bone Grafting and GTR Surgery, 693 Implant Maintenance\\r\\nFull breakfast and lunch provided each course day- Let us know of any dietary restrictions\\r\\nCourse Topics and Objectives:\\r\\nUpon completion of the course, participants will be able to understand and perform the following:\\r\\n\\r\\nDetailed discussion of pertinent clinical and radiographic anatomy\\r\\nPrepare radiographic guide based on CBCT review\\r\\nAnesthesia issues, instrumentation and understanding of proper sterile technique\\r\\nBasic surgical procedures explained and demonstrated\\r\\nSurgical and prosthodontic considerations including incision design, fixture and abutment selection, occlusal considerations and force transmission\\r\\nSurgical guide template design and construction, hands-on\\r\\nSurgical hands-on laboratory experience, socket preservation and use of grafting materials and membranes\\r\\nDiscussion of treatment of the partially and fully edentulous patient\\r\\nActual clinical placement of dental implants in patients\\r\\nActual restoration of the implant you place for assessment of final outcomes of all cases\\r\\n\\r\\n\\r\\nThis event is sponsored by Straumann Dental LLC. Sponsorship is provided for educational expenses related to this continuing education program.\\r\\nStraumann is a leading provider of solutions in implant dentistry and dental tissue regeneration. Our mission is to enable dental professionals to restore their patients\\u2019 oral function and esthetics through effective, reliable, and safe treatment methods.\\r\\n\\r\\nTAMCOD Office of CE Registration Information, Certifications & Cancellation/Refund policy:\\r\\nTexas A&M University College of Dentistry is an ADA CERP Recognized Provider.\\r\\nQUESTIONS: Please feel free to call us at 1-214-828-8238. For quickly response please email your questions through the online registration website\\r\\nADA CERP is a service of the American Dental Association to assist dental professionals in identifying quality providers of continuing dental education. ADA CERP does not approve or endorse individual courses or instructors, nor does it imply acceptance of credit hours by boards of dentistry.\\r\\nCancellations must be submitted in writing, signed, and dated when received at Texas A&M University. If cancellations are made 60 days before the start of the program registration will be refunded. However if cancellation is made 30 days or less, the tuition will be credited toward a future course or 75% of the registration will be refunded.\\r\\nConcerns or complaints about a CE provider may be directed to the provider or to ADA CERP at www.ada.org/cerp. Continuing education credits issued for participation in the CE activity may not apply toward license renewal in all states/provinces. It is the responsibility of each participant to verify the requirements of his/her state/provincial licensing board(s).\\r\\nCONFIRMATIONS: Will be sent by e-mailto the official email address provided by the attendee to the registration website. Exact email is necessary\\r\\nREGISTRATION CANCELLATION:\\xa0Tuition is refundable if a course is canceled by the Office of CE. A $50 fee will be assessed for any course cancellation. All payments by check or cash are deposited into the Texas A&M account and CANNOT be refunded. \\u201cNo Shows\\u201d for a course forfeit all tuition. Partial Refund may be given only 45 days prior to September 15, 2017. \\xa0Confirm notification of cancellation must be received in writing by e-mail.The CE Office cannot be held responsible for a non-refundable airline ticket.'},\n",
       "     u'end_time': 1524866400.0,\n",
       "     u'id': u'35013749066',\n",
       "     u'interested': -1,\n",
       "     u'link': u'https://www.eventbrite.com/e/2017-2018-4th-annual-dental-implant-continuum-part-i-first-live-surgical-opportunity-registration-35013749066?aff=ebapi',\n",
       "     u'name': u'2017-2018 4th Annual Dental Implant Continuum- Part I First Live Surgical Opportunity ',\n",
       "     u'place': u'Dallas, US',\n",
       "     u'start_time': u'2017-09-15',\n",
       "     u'temp_id': 1677,\n",
       "     u'updated_time': u'2017-12-12T17:46:57+0000'}],\n",
       "   u'feedback_type': u'like_dislike',\n",
       "   u'twitter_id': u'323040062'}]}"
      ]
     },
     "execution_count": 4,
     "metadata": {},
     "output_type": "execute_result"
    }
   ],
   "source": [
    "# show the response in JSON format\n",
    "res.json()"
   ]
  }
 ],
 "metadata": {
  "anaconda-cloud": {},
  "kernelspec": {
   "display_name": "Python 2",
   "language": "python",
   "name": "python2"
  },
  "language_info": {
   "codemirror_mode": {
    "name": "ipython",
    "version": 2
   },
   "file_extension": ".py",
   "mimetype": "text/x-python",
   "name": "python",
   "nbconvert_exporter": "python",
   "pygments_lexer": "ipython2",
   "version": "2.7.13"
  }
 },
 "nbformat": 4,
 "nbformat_minor": 1
}
