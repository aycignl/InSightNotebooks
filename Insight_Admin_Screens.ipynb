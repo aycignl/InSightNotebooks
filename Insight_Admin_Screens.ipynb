{
 "cells": [
  {
   "cell_type": "markdown",
   "metadata": {
    "deletable": true,
    "editable": true
   },
   "source": [
    "## Insight Admin Screens\n",
    "\n",
    "This document demonstrates the basics of the user interaction with the Insight Administration Panel\n",
    "\n",
    "https://docs.google.com/drawings/d/1xAepcmS36AIdqzVDXA8k3Bq9rl-LW2eO9EYVfxE-13A/edit"
   ]
  },
  {
   "cell_type": "markdown",
   "metadata": {
    "deletable": true,
    "editable": true
   },
   "source": [
    "### Landing Page\n",
    "\n",
    "This is the Login page of Insight. "
   ]
  },
  {
   "cell_type": "markdown",
   "metadata": {
    "deletable": true,
    "editable": true
   },
   "source": [
    "### Community"
   ]
  },
  {
   "cell_type": "markdown",
   "metadata": {
    "deletable": true,
    "editable": true
   },
   "source": [
    "Display the current statistics of the OM Userbase (OM Dashboard)"
   ]
  },
  {
   "cell_type": "code",
   "execution_count": 1,
   "metadata": {
    "collapsed": true,
    "deletable": true,
    "editable": true
   },
   "outputs": [],
   "source": [
    "%matplotlib inline\n",
    "import requests\n",
    "import json\n",
    "\n",
    "insightIP = 'http://178.62.229.16'\n",
    "insightPort = '8484'\n",
    "insightVersion = 'v1.1'\n",
    "insightSetting = insightIP + ':' + insightPort + '/api/' + insightVersion \n",
    "api_key = \"\" #needs to be filled\n",
    "\n",
    "page = 1\n",
    "users = []\n",
    "while(True):\n",
    "    request = '/omn_crawler/get_om_user_profiles?' + 'page=' + str(page) + '&' + 'api_key=' + api_key\n",
    "    # send a request\n",
    "    res = requests.get(insightSetting + request)\n",
    "    \n",
    "    if len(res.json()['users']) == 0:\n",
    "        break\n",
    "    \n",
    "    users.extend(res.json()['users'])\n",
    "    page += 1"
   ]
  },
  {
   "cell_type": "code",
   "execution_count": 2,
   "metadata": {
    "collapsed": false,
    "deletable": true,
    "editable": true
   },
   "outputs": [
    {
     "name": "stdout",
     "output_type": "stream",
     "text": [
      "Total Number of Capsule CRM users: 555\n",
      "Total Number of Twitter Registered Capsule CRM users: 201\n"
     ]
    }
   ],
   "source": [
    "twitter_user_counter = 0\n",
    "\n",
    "for u in users:\n",
    "    if 'twitter_profile' in u:\n",
    "        twitter_user_counter += 1\n",
    "\n",
    "print(\"Total Number of Capsule CRM users: \" + str(len(users)))\n",
    "print(\"Total Number of Twitter Registered Capsule CRM users: \" + str(twitter_user_counter))"
   ]
  },
  {
   "cell_type": "markdown",
   "metadata": {
    "deletable": true,
    "editable": true
   },
   "source": [
    "### Demographs\n",
    "\n",
    "#### Gender\n",
    "\n",
    "Show the Gender Analysis of Capsule CRM Users based on the number of counts"
   ]
  },
  {
   "cell_type": "markdown",
   "metadata": {
    "deletable": true,
    "editable": true
   },
   "source": [
    "Retrieve profiles of all Users"
   ]
  },
  {
   "cell_type": "code",
   "execution_count": 3,
   "metadata": {
    "collapsed": false,
    "deletable": true,
    "editable": true
   },
   "outputs": [],
   "source": [
    "import requests\n",
    "import json\n",
    "\n",
    "insightIP = 'http://178.62.229.16'\n",
    "insightPort = '8484'\n",
    "insightVersion = 'v1.0'\n",
    "insightSetting = insightIP + ':' + insightPort + '/api/' + insightVersion \n",
    "api_key = \"\" #needs to be filled\n",
    "\n",
    "page = 1\n",
    "users = []\n",
    "while(True):\n",
    "    request = '/omn_crawler/get_om_user_profiles?' + 'page=' + str(page) + '&' + 'api_key=' + api_key\n",
    "    # send a request\n",
    "    res = requests.get(insightSetting + request)\n",
    "    \n",
    "    if len(res.json()['users']) == 0:\n",
    "        break\n",
    "    \n",
    "    users.extend(res.json()['users'])\n",
    "    page += 1"
   ]
  },
  {
   "cell_type": "markdown",
   "metadata": {
    "deletable": true,
    "editable": true
   },
   "source": [
    "List all genders from profile of Users"
   ]
  },
  {
   "cell_type": "code",
   "execution_count": 41,
   "metadata": {
    "collapsed": false,
    "deletable": true,
    "editable": true
   },
   "outputs": [],
   "source": [
    "all_genders = []\n",
    "\n",
    "for g in users:\n",
    "    for index in g['capsule_profile']['fields']:\n",
    "        if index['definition']['name']== 'Gender':\n",
    "            all_genders.append(index['value'])"
   ]
  },
  {
   "cell_type": "markdown",
   "metadata": {
    "deletable": true,
    "editable": true
   },
   "source": [
    "Categorize all Genders"
   ]
  },
  {
   "cell_type": "code",
   "execution_count": 42,
   "metadata": {
    "collapsed": false,
    "deletable": true,
    "editable": true
   },
   "outputs": [],
   "source": [
    "from collections import Counter\n",
    "\n",
    "count_gender = Counter()\n",
    "\n",
    "for i in all_genders:\n",
    "    count_gender[i] += 1\n",
    "\n",
    "gender_labels = []\n",
    "gender_size = []\n",
    "\n",
    "for k in count_gender.keys():\n",
    "    gender_labels.append(k)\n",
    "    gender_size.append(count_gender[k])"
   ]
  },
  {
   "cell_type": "markdown",
   "metadata": {
    "deletable": true,
    "editable": true
   },
   "source": [
    "Plot the Gender Analysis"
   ]
  },
  {
   "cell_type": "code",
   "execution_count": 44,
   "metadata": {
    "collapsed": false,
    "deletable": true,
    "editable": true,
    "scrolled": false
   },
   "outputs": [
    {
     "data": {
      "image/png": "[encoded data removed]",
      "text/plain": [
       "<matplotlib.figure.Figure at 0x2986d5ae0f0>"
      ]
     },
     "metadata": {},
     "output_type": "display_data"
    }
   ],
   "source": [
    "import matplotlib.pyplot as plt\n",
    "\n",
    " \n",
    "labels = gender_labels\n",
    "sizes = gender_size\n",
    "colors = ['lightskyblue', 'gold', 'lightcoral']\n",
    " \n",
    "plt.pie(sizes, labels=labels, colors=colors,\n",
    "        autopct='%1.1f%%', startangle=140)\n",
    " \n",
    "plt.axis('equal')\n",
    "plt.show()"
   ]
  },
  {
   "cell_type": "markdown",
   "metadata": {
    "deletable": true,
    "editable": true
   },
   "source": [
    "#### Age\n",
    "\n",
    "Show the Age Analysis of Capsule CRM Users based on the number of counts"
   ]
  },
  {
   "cell_type": "markdown",
   "metadata": {
    "deletable": true,
    "editable": true
   },
   "source": [
    "Retrieve profiles of all Users"
   ]
  },
  {
   "cell_type": "code",
   "execution_count": 12,
   "metadata": {
    "collapsed": true,
    "deletable": true,
    "editable": true
   },
   "outputs": [],
   "source": [
    "import requests\n",
    "import json\n",
    "\n",
    "insightIP = 'http://178.62.229.16'\n",
    "insightPort = '8484'\n",
    "insightVersion = 'v1.0'\n",
    "insightSetting = insightIP + ':' + insightPort + '/api/' + insightVersion \n",
    "api_key = \"\" #needs to be filled\n",
    "\n",
    "page = 1\n",
    "users = []\n",
    "while(True):\n",
    "    request = '/omn_crawler/get_om_user_profiles?' + 'page=' + str(page) + '&' + 'api_key=' + api_key\n",
    "    # send a request\n",
    "    res = requests.get(insightSetting + request)\n",
    "    \n",
    "    if len(res.json()['users']) == 0:\n",
    "        break\n",
    "    \n",
    "    users.extend(res.json()['users'])\n",
    "    page += 1"
   ]
  },
  {
   "cell_type": "markdown",
   "metadata": {
    "deletable": true,
    "editable": true
   },
   "source": [
    "List all ages from profile of Users"
   ]
  },
  {
   "cell_type": "code",
   "execution_count": 45,
   "metadata": {
    "collapsed": true,
    "deletable": true,
    "editable": true
   },
   "outputs": [],
   "source": [
    "all_ages = []\n",
    "\n",
    "for a in users:\n",
    "    for index in a['capsule_profile']['fields']:\n",
    "        if index['definition']['name'] == 'Age':\n",
    "            all_ages.append(index['value'])"
   ]
  },
  {
   "cell_type": "markdown",
   "metadata": {
    "deletable": true,
    "editable": true
   },
   "source": [
    "Categorize all Ages "
   ]
  },
  {
   "cell_type": "code",
   "execution_count": 49,
   "metadata": {
    "collapsed": false,
    "deletable": true,
    "editable": true
   },
   "outputs": [],
   "source": [
    "from collections import Counter\n",
    "\n",
    "count_ages = Counter()\n",
    "\n",
    "for i in all_ages:\n",
    "    count_ages[i] += 1\n",
    "\n",
    "# categorize all ages into four groups\n",
    "# 0-30, 30-40, 40-50, 50+ \n",
    "\n",
    "interval_one = 0\n",
    "interval_two = 0\n",
    "interval_three = 0\n",
    "interval_four = 0\n",
    "\n",
    "for index in count_ages.keys():\n",
    "    if int(index) in range(0, 30):\n",
    "        interval_one += count_ages[index]\n",
    "    elif int(index) in range(30, 40):\n",
    "        interval_two += count_ages[index]\n",
    "    elif int(index) in range(40, 50):\n",
    "        interval_three += count_ages[index]\n",
    "    else:\n",
    "        interval_four += count_ages[index]\n",
    "\n",
    "ages_size = [interval_one, interval_two, interval_three, interval_four]\n",
    "ages_labels = ['0-30', '30-40', '40-50', '50+']"
   ]
  },
  {
   "cell_type": "markdown",
   "metadata": {
    "deletable": true,
    "editable": true
   },
   "source": [
    "Plot the Age Analysis"
   ]
  },
  {
   "cell_type": "code",
   "execution_count": 50,
   "metadata": {
    "collapsed": false,
    "deletable": true,
    "editable": true
   },
   "outputs": [
    {
     "data": {
      "image/png": "[encoded data removed]",
      "text/plain": [
       "<matplotlib.figure.Figure at 0x29868b78e48>"
      ]
     },
     "metadata": {},
     "output_type": "display_data"
    }
   ],
   "source": [
    "import matplotlib.pyplot as plt; plt.rcdefaults()\n",
    "import numpy as np\n",
    "import matplotlib.pyplot as plt\n",
    " \n",
    "labels = ages_labels\n",
    "y_pos = np.arange(len(labels))\n",
    "sizes = ages_size\n",
    " \n",
    "plt.bar(y_pos, sizes, align='center', alpha=0.6, width=.5)\n",
    "plt.xticks(y_pos, labels)\n",
    "plt.ylabel('Number of Counts')\n",
    "plt.xlabel('Age Intervals')\n",
    "plt.title('Age Analysis of Capsule CRM Users')\n",
    "\n",
    "plt.show()"
   ]
  },
  {
   "cell_type": "markdown",
   "metadata": {
    "deletable": true,
    "editable": true
   },
   "source": [
    "#### City  and Region\n",
    "\n",
    "List of all different Cities and Regions of Capsule CRM users."
   ]
  },
  {
   "cell_type": "markdown",
   "metadata": {
    "deletable": true,
    "editable": true
   },
   "source": [
    "Retrieve profiles of all Users"
   ]
  },
  {
   "cell_type": "code",
   "execution_count": 44,
   "metadata": {
    "collapsed": true,
    "deletable": true,
    "editable": true
   },
   "outputs": [],
   "source": [
    "import requests\n",
    "import json\n",
    "\n",
    "insightIP = 'http://178.62.229.16'\n",
    "insightPort = '8484'\n",
    "insightVersion = 'v1.0'\n",
    "insightSetting = insightIP + ':' + insightPort + '/api/' + insightVersion \n",
    "api_key = \"\" #needs to be filled\n",
    "\n",
    "page = 1\n",
    "users = []\n",
    "while(True):\n",
    "    request = '/omn_crawler/get_om_user_profiles?' + 'page=' + str(page) + '&' + 'api_key=' + api_key\n",
    "    # send a request\n",
    "    res = requests.get(insightSetting + request)\n",
    "    \n",
    "    if len(res.json()['users']) == 0:\n",
    "        break\n",
    "    \n",
    "    users.extend(res.json()['users'])\n",
    "    page += 1"
   ]
  },
  {
   "cell_type": "markdown",
   "metadata": {
    "deletable": true,
    "editable": true
   },
   "source": [
    "List all Cities from profile of Users"
   ]
  },
  {
   "cell_type": "code",
   "execution_count": 45,
   "metadata": {
    "collapsed": false,
    "deletable": true,
    "editable": true
   },
   "outputs": [],
   "source": [
    "all_cities = []\n",
    "\n",
    "for c in users:\n",
    "    for index in c['capsule_profile']['fields']:\n",
    "        if index['definition']['name'] == 'CIty':\n",
    "            all_cities.append(index['value'])"
   ]
  },
  {
   "cell_type": "markdown",
   "metadata": {
    "deletable": true,
    "editable": true
   },
   "source": [
    "Categorize all Cities "
   ]
  },
  {
   "cell_type": "code",
   "execution_count": 46,
   "metadata": {
    "collapsed": true,
    "deletable": true,
    "editable": true
   },
   "outputs": [],
   "source": [
    "from collections import Counter\n",
    "\n",
    "count_cities = Counter()\n",
    "\n",
    "for i in all_cities:\n",
    "    count_cities[i] += 1"
   ]
  },
  {
   "cell_type": "markdown",
   "metadata": {
    "deletable": true,
    "editable": true
   },
   "source": [
    "Show the number of different Cities and all different Cities with their counts"
   ]
  },
  {
   "cell_type": "code",
   "execution_count": 48,
   "metadata": {
    "collapsed": false,
    "deletable": true,
    "editable": true,
    "scrolled": false
   },
   "outputs": [
    {
     "name": "stdout",
     "output_type": "stream",
     "text": [
      "Total Number of different Cities of Capsule CRM users: 179\n"
     ]
    },
    {
     "data": {
      "text/html": [
       "<div>\n",
       "<table border=\"1\" class=\"dataframe\">\n",
       "  <thead>\n",
       "    <tr style=\"text-align: right;\">\n",
       "      <th></th>\n",
       "      <th>Cities</th>\n",
       "      <th>Count</th>\n",
       "    </tr>\n",
       "  </thead>\n",
       "  <tbody>\n",
       "    <tr>\n",
       "      <th>0</th>\n",
       "      <td>Liverpool, UK</td>\n",
       "      <td>38</td>\n",
       "    </tr>\n",
       "    <tr>\n",
       "      <th>1</th>\n",
       "      <td>Firenze FI, Italia</td>\n",
       "      <td>21</td>\n",
       "    </tr>\n",
       "    <tr>\n",
       "      <th>2</th>\n",
       "      <td>Bratislava, Slovensko</td>\n",
       "      <td>21</td>\n",
       "    </tr>\n",
       "    <tr>\n",
       "      <th>3</th>\n",
       "      <td>Bilbao, Vizcaya, España</td>\n",
       "      <td>12</td>\n",
       "    </tr>\n",
       "    <tr>\n",
       "      <th>4</th>\n",
       "      <td>London, UK</td>\n",
       "      <td>12</td>\n",
       "    </tr>\n",
       "    <tr>\n",
       "      <th>5</th>\n",
       "      <td>Torino TO, Italia</td>\n",
       "      <td>12</td>\n",
       "    </tr>\n",
       "    <tr>\n",
       "      <th>6</th>\n",
       "      <td>Bratislava, Slovakia</td>\n",
       "      <td>10</td>\n",
       "    </tr>\n",
       "    <tr>\n",
       "      <th>7</th>\n",
       "      <td>Istanbul, Turkey</td>\n",
       "      <td>9</td>\n",
       "    </tr>\n",
       "    <tr>\n",
       "      <th>8</th>\n",
       "      <td>Košice, Slovensko</td>\n",
       "      <td>9</td>\n",
       "    </tr>\n",
       "    <tr>\n",
       "      <th>9</th>\n",
       "      <td>Milano MI, Italia</td>\n",
       "      <td>8</td>\n",
       "    </tr>\n",
       "    <tr>\n",
       "      <th>10</th>\n",
       "      <td>Manchester, UK</td>\n",
       "      <td>8</td>\n",
       "    </tr>\n",
       "    <tr>\n",
       "      <th>11</th>\n",
       "      <td>Prešov, Slovensko</td>\n",
       "      <td>7</td>\n",
       "    </tr>\n",
       "    <tr>\n",
       "      <th>12</th>\n",
       "      <td>Turin, Metropolitan City of Turin, Italy</td>\n",
       "      <td>6</td>\n",
       "    </tr>\n",
       "    <tr>\n",
       "      <th>13</th>\n",
       "      <td>Žilina, Slovakia</td>\n",
       "      <td>6</td>\n",
       "    </tr>\n",
       "    <tr>\n",
       "      <th>14</th>\n",
       "      <td>Banská Bystrica, Slovensko</td>\n",
       "      <td>6</td>\n",
       "    </tr>\n",
       "    <tr>\n",
       "      <th>15</th>\n",
       "      <td>San Sebastián, Guipúzcoa, España</td>\n",
       "      <td>5</td>\n",
       "    </tr>\n",
       "    <tr>\n",
       "      <th>16</th>\n",
       "      <td>Zvolen, Slovensko</td>\n",
       "      <td>5</td>\n",
       "    </tr>\n",
       "    <tr>\n",
       "      <th>17</th>\n",
       "      <td>Reggio Emilia RE, Italia</td>\n",
       "      <td>5</td>\n",
       "    </tr>\n",
       "    <tr>\n",
       "      <th>18</th>\n",
       "      <td>Roma RM, Italia</td>\n",
       "      <td>4</td>\n",
       "    </tr>\n",
       "    <tr>\n",
       "      <th>19</th>\n",
       "      <td>Barcelona, Spain</td>\n",
       "      <td>4</td>\n",
       "    </tr>\n",
       "    <tr>\n",
       "      <th>20</th>\n",
       "      <td>Zaragoza, España</td>\n",
       "      <td>4</td>\n",
       "    </tr>\n",
       "    <tr>\n",
       "      <th>21</th>\n",
       "      <td>Guecho, Vizcaya, España</td>\n",
       "      <td>4</td>\n",
       "    </tr>\n",
       "    <tr>\n",
       "      <th>22</th>\n",
       "      <td>Madrid, España</td>\n",
       "      <td>4</td>\n",
       "    </tr>\n",
       "    <tr>\n",
       "      <th>23</th>\n",
       "      <td>Nitra, Slovensko</td>\n",
       "      <td>3</td>\n",
       "    </tr>\n",
       "    <tr>\n",
       "      <th>24</th>\n",
       "      <td>03100 Frosinone FR, Italia</td>\n",
       "      <td>3</td>\n",
       "    </tr>\n",
       "    <tr>\n",
       "      <th>25</th>\n",
       "      <td>Valencia, España</td>\n",
       "      <td>3</td>\n",
       "    </tr>\n",
       "    <tr>\n",
       "      <th>26</th>\n",
       "      <td>Trnava, Slovensko</td>\n",
       "      <td>3</td>\n",
       "    </tr>\n",
       "    <tr>\n",
       "      <th>27</th>\n",
       "      <td>Žilina, Slovensko</td>\n",
       "      <td>3</td>\n",
       "    </tr>\n",
       "    <tr>\n",
       "      <th>28</th>\n",
       "      <td>León, España</td>\n",
       "      <td>3</td>\n",
       "    </tr>\n",
       "    <tr>\n",
       "      <th>29</th>\n",
       "      <td>027 41 Oravský Podzámok, Slovensko</td>\n",
       "      <td>2</td>\n",
       "    </tr>\n",
       "    <tr>\n",
       "      <th>...</th>\n",
       "      <td>...</td>\n",
       "      <td>...</td>\n",
       "    </tr>\n",
       "    <tr>\n",
       "      <th>149</th>\n",
       "      <td>Zaragoza, Spain</td>\n",
       "      <td>1</td>\n",
       "    </tr>\n",
       "    <tr>\n",
       "      <th>150</th>\n",
       "      <td>Los Realejos, Santa Cruz de Tenerife, Spain</td>\n",
       "      <td>1</td>\n",
       "    </tr>\n",
       "    <tr>\n",
       "      <th>151</th>\n",
       "      <td>Zvolen</td>\n",
       "      <td>1</td>\n",
       "    </tr>\n",
       "    <tr>\n",
       "      <th>152</th>\n",
       "      <td>014 01 Bytča, Slovensko</td>\n",
       "      <td>1</td>\n",
       "    </tr>\n",
       "    <tr>\n",
       "      <th>153</th>\n",
       "      <td>Liverpoo</td>\n",
       "      <td>1</td>\n",
       "    </tr>\n",
       "    <tr>\n",
       "      <th>154</th>\n",
       "      <td>Zürich, Switzerland</td>\n",
       "      <td>1</td>\n",
       "    </tr>\n",
       "    <tr>\n",
       "      <th>155</th>\n",
       "      <td>900 84 Igram, Slovakia</td>\n",
       "      <td>1</td>\n",
       "    </tr>\n",
       "    <tr>\n",
       "      <th>156</th>\n",
       "      <td>018 61 Beluša, Slovensko</td>\n",
       "      <td>1</td>\n",
       "    </tr>\n",
       "    <tr>\n",
       "      <th>157</th>\n",
       "      <td>078 01 Sečovce, Slovensko</td>\n",
       "      <td>1</td>\n",
       "    </tr>\n",
       "    <tr>\n",
       "      <th>158</th>\n",
       "      <td>976 13 Slovenská Ľupča, Slovensko</td>\n",
       "      <td>1</td>\n",
       "    </tr>\n",
       "    <tr>\n",
       "      <th>159</th>\n",
       "      <td>Fuenterrabía, Guipúzcoa, España</td>\n",
       "      <td>1</td>\n",
       "    </tr>\n",
       "    <tr>\n",
       "      <th>160</th>\n",
       "      <td>Birmingham, UK</td>\n",
       "      <td>1</td>\n",
       "    </tr>\n",
       "    <tr>\n",
       "      <th>161</th>\n",
       "      <td>50063 Figline Valdarno FI, Italia</td>\n",
       "      <td>1</td>\n",
       "    </tr>\n",
       "    <tr>\n",
       "      <th>162</th>\n",
       "      <td>55100 Lucca LU, Italia</td>\n",
       "      <td>1</td>\n",
       "    </tr>\n",
       "    <tr>\n",
       "      <th>163</th>\n",
       "      <td>İstanbul, Türkiye</td>\n",
       "      <td>1</td>\n",
       "    </tr>\n",
       "    <tr>\n",
       "      <th>164</th>\n",
       "      <td>50039 Vicchio FI, Italia</td>\n",
       "      <td>1</td>\n",
       "    </tr>\n",
       "    <tr>\n",
       "      <th>165</th>\n",
       "      <td>Errenteria</td>\n",
       "      <td>1</td>\n",
       "    </tr>\n",
       "    <tr>\n",
       "      <th>166</th>\n",
       "      <td>Bilbao, Biscay, Spain</td>\n",
       "      <td>1</td>\n",
       "    </tr>\n",
       "    <tr>\n",
       "      <th>167</th>\n",
       "      <td>Invorio</td>\n",
       "      <td>1</td>\n",
       "    </tr>\n",
       "    <tr>\n",
       "      <th>168</th>\n",
       "      <td>59100 Prato PO, Italia</td>\n",
       "      <td>1</td>\n",
       "    </tr>\n",
       "    <tr>\n",
       "      <th>169</th>\n",
       "      <td>Oponice</td>\n",
       "      <td>1</td>\n",
       "    </tr>\n",
       "    <tr>\n",
       "      <th>170</th>\n",
       "      <td>A CORUÑA</td>\n",
       "      <td>1</td>\n",
       "    </tr>\n",
       "    <tr>\n",
       "      <th>171</th>\n",
       "      <td>København, Danmark</td>\n",
       "      <td>1</td>\n",
       "    </tr>\n",
       "    <tr>\n",
       "      <th>172</th>\n",
       "      <td>Amsterdam, Netherlands</td>\n",
       "      <td>1</td>\n",
       "    </tr>\n",
       "    <tr>\n",
       "      <th>173</th>\n",
       "      <td>Salford, UK</td>\n",
       "      <td>1</td>\n",
       "    </tr>\n",
       "    <tr>\n",
       "      <th>174</th>\n",
       "      <td>Madrid, Spain</td>\n",
       "      <td>1</td>\n",
       "    </tr>\n",
       "    <tr>\n",
       "      <th>175</th>\n",
       "      <td>972 01 Bojnice, Slovensko</td>\n",
       "      <td>1</td>\n",
       "    </tr>\n",
       "    <tr>\n",
       "      <th>176</th>\n",
       "      <td>Cardiff, UK</td>\n",
       "      <td>1</td>\n",
       "    </tr>\n",
       "    <tr>\n",
       "      <th>177</th>\n",
       "      <td>50060 Pelago FI, Italia</td>\n",
       "      <td>1</td>\n",
       "    </tr>\n",
       "    <tr>\n",
       "      <th>178</th>\n",
       "      <td>Nottingham, UK</td>\n",
       "      <td>1</td>\n",
       "    </tr>\n",
       "  </tbody>\n",
       "</table>\n",
       "<p>179 rows × 2 columns</p>\n",
       "</div>"
      ],
      "text/plain": [
       "                                          Cities  Count\n",
       "0                                  Liverpool, UK     38\n",
       "1                             Firenze FI, Italia     21\n",
       "2                          Bratislava, Slovensko     21\n",
       "3                        Bilbao, Vizcaya, España     12\n",
       "4                                     London, UK     12\n",
       "5                              Torino TO, Italia     12\n",
       "6                           Bratislava, Slovakia     10\n",
       "7                               Istanbul, Turkey      9\n",
       "8                              Košice, Slovensko      9\n",
       "9                              Milano MI, Italia      8\n",
       "10                                Manchester, UK      8\n",
       "11                             Prešov, Slovensko      7\n",
       "12      Turin, Metropolitan City of Turin, Italy      6\n",
       "13                              Žilina, Slovakia      6\n",
       "14                    Banská Bystrica, Slovensko      6\n",
       "15              San Sebastián, Guipúzcoa, España      5\n",
       "16                             Zvolen, Slovensko      5\n",
       "17                      Reggio Emilia RE, Italia      5\n",
       "18                               Roma RM, Italia      4\n",
       "19                              Barcelona, Spain      4\n",
       "20                              Zaragoza, España      4\n",
       "21                       Guecho, Vizcaya, España      4\n",
       "22                                Madrid, España      4\n",
       "23                              Nitra, Slovensko      3\n",
       "24                    03100 Frosinone FR, Italia      3\n",
       "25                              Valencia, España      3\n",
       "26                             Trnava, Slovensko      3\n",
       "27                             Žilina, Slovensko      3\n",
       "28                                  León, España      3\n",
       "29            027 41 Oravský Podzámok, Slovensko      2\n",
       "..                                           ...    ...\n",
       "149                              Zaragoza, Spain      1\n",
       "150  Los Realejos, Santa Cruz de Tenerife, Spain      1\n",
       "151                                       Zvolen      1\n",
       "152                      014 01 Bytča, Slovensko      1\n",
       "153                                     Liverpoo      1\n",
       "154                          Zürich, Switzerland      1\n",
       "155                       900 84 Igram, Slovakia      1\n",
       "156                     018 61 Beluša, Slovensko      1\n",
       "157                    078 01 Sečovce, Slovensko      1\n",
       "158            976 13 Slovenská Ľupča, Slovensko      1\n",
       "159              Fuenterrabía, Guipúzcoa, España      1\n",
       "160                               Birmingham, UK      1\n",
       "161            50063 Figline Valdarno FI, Italia      1\n",
       "162                       55100 Lucca LU, Italia      1\n",
       "163                            İstanbul, Türkiye      1\n",
       "164                     50039 Vicchio FI, Italia      1\n",
       "165                                   Errenteria      1\n",
       "166                        Bilbao, Biscay, Spain      1\n",
       "167                                      Invorio      1\n",
       "168                       59100 Prato PO, Italia      1\n",
       "169                                      Oponice      1\n",
       "170                                     A CORUÑA      1\n",
       "171                           København, Danmark      1\n",
       "172                       Amsterdam, Netherlands      1\n",
       "173                                  Salford, UK      1\n",
       "174                                Madrid, Spain      1\n",
       "175                    972 01 Bojnice, Slovensko      1\n",
       "176                                  Cardiff, UK      1\n",
       "177                      50060 Pelago FI, Italia      1\n",
       "178                               Nottingham, UK      1\n",
       "\n",
       "[179 rows x 2 columns]"
      ]
     },
     "execution_count": 48,
     "metadata": {},
     "output_type": "execute_result"
    }
   ],
   "source": [
    "import pandas as pd\n",
    "cities_list = pd.DataFrame.from_dict(count_cities, orient='index').reset_index()\n",
    "cities_list = cities_list.rename(columns={'index': 'Cities', 0:'Count'})\n",
    "cities_list = cities_list.sort_values('Count', ascending=False).reset_index(drop=True)\n",
    "\n",
    "print(\"Total Number of different Cities of Capsule CRM users: \" + str(len(set(count_cities))))\n",
    "cities_list"
   ]
  },
  {
   "cell_type": "code",
   "execution_count": 70,
   "metadata": {
    "collapsed": false,
    "deletable": true,
    "editable": true
   },
   "outputs": [
    {
     "data": {
      "image/png": "[encoded data removed]",
      "text/plain": [
       "<matplotlib.figure.Figure at 0x177a434bb00>"
      ]
     },
     "metadata": {},
     "output_type": "display_data"
    }
   ],
   "source": [
    "people = ('Tom', 'Dick', 'Harry', 'Slim', 'Jim')\n",
    "y_pos = np.arange(len(people))\n",
    "performance = 3 + 10 * np.random.rand(len(people))\n",
    "error = np.random.rand(len(people))\n",
    "\n",
    "plt.barh(y_pos, performance, xerr=error, align='center',\n",
    "        color='green', ecolor='black')\n",
    "plt.yticks(y_pos,people)\n",
    "\n",
    "plt.xlabel('Performance')\n",
    "plt.title('How fast do you want to go today?')\n",
    "plt.show()"
   ]
  },
  {
   "cell_type": "code",
   "execution_count": 77,
   "metadata": {
    "collapsed": false,
    "deletable": true,
    "editable": true
   },
   "outputs": [],
   "source": [
    "labels.reverse()"
   ]
  },
  {
   "cell_type": "code",
   "execution_count": 90,
   "metadata": {
    "collapsed": false,
    "deletable": true,
    "editable": true
   },
   "outputs": [
    {
     "data": {
      "image/png": "[encoded data removed]",
      "text/plain": [
       "<matplotlib.figure.Figure at 0x177a49d3780>"
      ]
     },
     "metadata": {},
     "output_type": "display_data"
    }
   ],
   "source": [
    "import matplotlib.pyplot as plt; plt.rcdefaults()\n",
    "import numpy as np\n",
    "import matplotlib.pyplot as plt\n",
    "plt.figure(figsize=(9,6))\n",
    "labels = list(cities_list[:20]['Cities'])\n",
    "y_pos = np.arange(len(list(cities_list[:20]['Cities'])))\n",
    "sizes = list(cities_list[:20]['Count'])\n",
    "\n",
    "labels.reverse()\n",
    "sizes.reverse()\n",
    "\n",
    "plt.barh(y_pos, sizes, alpha=0.6, height=0.5)\n",
    "plt.yticks(y_pos, labels)\n",
    "plt.xlabel('Number of Counts')\n",
    "plt.ylabel('Cities')\n",
    "plt.title('City Distribution of Capsule CRM Users')\n",
    "\n",
    "plt.show()"
   ]
  },
  {
   "cell_type": "markdown",
   "metadata": {
    "deletable": true,
    "editable": true
   },
   "source": [
    "### Jobs\n",
    "\n",
    "Lists of all different Jobs of Capsule CRM Users."
   ]
  },
  {
   "cell_type": "markdown",
   "metadata": {
    "deletable": true,
    "editable": true
   },
   "source": [
    "Retrieve profiles of all Users"
   ]
  },
  {
   "cell_type": "code",
   "execution_count": 26,
   "metadata": {
    "collapsed": true,
    "deletable": true,
    "editable": true
   },
   "outputs": [],
   "source": [
    "import requests\n",
    "import json\n",
    "\n",
    "insightIP = 'http://178.62.229.16'\n",
    "insightPort = '8484'\n",
    "insightVersion = 'v1.0'\n",
    "insightSetting = insightIP + ':' + insightPort + '/api/' + insightVersion \n",
    "api_key = \"\" #needs to be filled\n",
    "\n",
    "page = 1\n",
    "users = []\n",
    "while(True):\n",
    "    request = '/omn_crawler/get_om_user_profiles?' + 'page=' + str(page) + '&' + 'api_key=' + api_key\n",
    "    # send a request\n",
    "    res = requests.get(insightSetting + request)\n",
    "    \n",
    "    if len(res.json()['users']) == 0:\n",
    "        break\n",
    "    \n",
    "    users.extend(res.json()['users'])\n",
    "    page += 1"
   ]
  },
  {
   "cell_type": "markdown",
   "metadata": {
    "deletable": true,
    "editable": true
   },
   "source": [
    "List all Jobs from profile of Users"
   ]
  },
  {
   "cell_type": "code",
   "execution_count": 27,
   "metadata": {
    "collapsed": false,
    "deletable": true,
    "editable": true,
    "scrolled": true
   },
   "outputs": [],
   "source": [
    "all_jobs = []\n",
    "\n",
    "for j in users:\n",
    "    if j['capsule_profile'].get('jobTitle') is not None:\n",
    "        all_jobs.append(j['capsule_profile'].get('jobTitle'))"
   ]
  },
  {
   "cell_type": "markdown",
   "metadata": {
    "deletable": true,
    "editable": true
   },
   "source": [
    "Categorize all Jobs "
   ]
  },
  {
   "cell_type": "code",
   "execution_count": 28,
   "metadata": {
    "collapsed": true,
    "deletable": true,
    "editable": true
   },
   "outputs": [],
   "source": [
    "from collections import Counter\n",
    "\n",
    "count_jobs = Counter()\n",
    "\n",
    "for i in all_jobs:\n",
    "    count_jobs[i] += 1"
   ]
  },
  {
   "cell_type": "markdown",
   "metadata": {
    "deletable": true,
    "editable": true
   },
   "source": [
    "Show the number of different Jobs and all different Jobs with their counts"
   ]
  },
  {
   "cell_type": "code",
   "execution_count": 29,
   "metadata": {
    "collapsed": false,
    "deletable": true,
    "editable": true,
    "scrolled": true
   },
   "outputs": [
    {
     "name": "stdout",
     "output_type": "stream",
     "text": [
      "Total Number of different Jobs of Capsule CRM users: 179\n"
     ]
    },
    {
     "data": {
      "text/html": [
       "<div>\n",
       "<table border=\"1\" class=\"dataframe\">\n",
       "  <thead>\n",
       "    <tr style=\"text-align: right;\">\n",
       "      <th></th>\n",
       "      <th>Jobs</th>\n",
       "      <th>Count</th>\n",
       "    </tr>\n",
       "  </thead>\n",
       "  <tbody>\n",
       "    <tr>\n",
       "      <th>0</th>\n",
       "      <td>Researcher</td>\n",
       "      <td>16</td>\n",
       "    </tr>\n",
       "    <tr>\n",
       "      <th>1</th>\n",
       "      <td>Designer</td>\n",
       "      <td>12</td>\n",
       "    </tr>\n",
       "    <tr>\n",
       "      <th>2</th>\n",
       "      <td>CEO</td>\n",
       "      <td>11</td>\n",
       "    </tr>\n",
       "    <tr>\n",
       "      <th>3</th>\n",
       "      <td>designer</td>\n",
       "      <td>10</td>\n",
       "    </tr>\n",
       "    <tr>\n",
       "      <th>4</th>\n",
       "      <td>Entrepreneur</td>\n",
       "      <td>10</td>\n",
       "    </tr>\n",
       "    <tr>\n",
       "      <th>5</th>\n",
       "      <td>Student</td>\n",
       "      <td>7</td>\n",
       "    </tr>\n",
       "    <tr>\n",
       "      <th>6</th>\n",
       "      <td>Architect</td>\n",
       "      <td>7</td>\n",
       "    </tr>\n",
       "    <tr>\n",
       "      <th>7</th>\n",
       "      <td>Director</td>\n",
       "      <td>7</td>\n",
       "    </tr>\n",
       "    <tr>\n",
       "      <th>8</th>\n",
       "      <td>manager</td>\n",
       "      <td>6</td>\n",
       "    </tr>\n",
       "    <tr>\n",
       "      <th>9</th>\n",
       "      <td>Consultant</td>\n",
       "      <td>6</td>\n",
       "    </tr>\n",
       "    <tr>\n",
       "      <th>10</th>\n",
       "      <td>Engineer</td>\n",
       "      <td>6</td>\n",
       "    </tr>\n",
       "    <tr>\n",
       "      <th>11</th>\n",
       "      <td>project manager</td>\n",
       "      <td>5</td>\n",
       "    </tr>\n",
       "    <tr>\n",
       "      <th>12</th>\n",
       "      <td>Entrepreneur / Partner</td>\n",
       "      <td>5</td>\n",
       "    </tr>\n",
       "    <tr>\n",
       "      <th>13</th>\n",
       "      <td>architect</td>\n",
       "      <td>4</td>\n",
       "    </tr>\n",
       "    <tr>\n",
       "      <th>14</th>\n",
       "      <td>Managing Director</td>\n",
       "      <td>4</td>\n",
       "    </tr>\n",
       "    <tr>\n",
       "      <th>15</th>\n",
       "      <td>Project Manager</td>\n",
       "      <td>4</td>\n",
       "    </tr>\n",
       "    <tr>\n",
       "      <th>16</th>\n",
       "      <td>Project manager</td>\n",
       "      <td>4</td>\n",
       "    </tr>\n",
       "    <tr>\n",
       "      <th>17</th>\n",
       "      <td>Maker</td>\n",
       "      <td>4</td>\n",
       "    </tr>\n",
       "    <tr>\n",
       "      <th>18</th>\n",
       "      <td>Slovakia</td>\n",
       "      <td>3</td>\n",
       "    </tr>\n",
       "    <tr>\n",
       "      <th>19</th>\n",
       "      <td>Developer</td>\n",
       "      <td>3</td>\n",
       "    </tr>\n",
       "    <tr>\n",
       "      <th>20</th>\n",
       "      <td>Slovensko</td>\n",
       "      <td>3</td>\n",
       "    </tr>\n",
       "    <tr>\n",
       "      <th>21</th>\n",
       "      <td>CTO</td>\n",
       "      <td>3</td>\n",
       "    </tr>\n",
       "    <tr>\n",
       "      <th>22</th>\n",
       "      <td>Teacher</td>\n",
       "      <td>3</td>\n",
       "    </tr>\n",
       "    <tr>\n",
       "      <th>23</th>\n",
       "      <td>Manager</td>\n",
       "      <td>3</td>\n",
       "    </tr>\n",
       "    <tr>\n",
       "      <th>24</th>\n",
       "      <td>Curator</td>\n",
       "      <td>2</td>\n",
       "    </tr>\n",
       "    <tr>\n",
       "      <th>25</th>\n",
       "      <td>tester</td>\n",
       "      <td>2</td>\n",
       "    </tr>\n",
       "    <tr>\n",
       "      <th>26</th>\n",
       "      <td>researcher</td>\n",
       "      <td>2</td>\n",
       "    </tr>\n",
       "    <tr>\n",
       "      <th>27</th>\n",
       "      <td>96001</td>\n",
       "      <td>2</td>\n",
       "    </tr>\n",
       "    <tr>\n",
       "      <th>28</th>\n",
       "      <td>designer, multimedia consultant</td>\n",
       "      <td>2</td>\n",
       "    </tr>\n",
       "    <tr>\n",
       "      <th>29</th>\n",
       "      <td>Technical Director</td>\n",
       "      <td>2</td>\n",
       "    </tr>\n",
       "    <tr>\n",
       "      <th>...</th>\n",
       "      <td>...</td>\n",
       "      <td>...</td>\n",
       "    </tr>\n",
       "    <tr>\n",
       "      <th>257</th>\n",
       "      <td>HR manager</td>\n",
       "      <td>1</td>\n",
       "    </tr>\n",
       "    <tr>\n",
       "      <th>258</th>\n",
       "      <td>FabLab Director</td>\n",
       "      <td>1</td>\n",
       "    </tr>\n",
       "    <tr>\n",
       "      <th>259</th>\n",
       "      <td>Economic Development</td>\n",
       "      <td>1</td>\n",
       "    </tr>\n",
       "    <tr>\n",
       "      <th>260</th>\n",
       "      <td>Engineer and CEO at Setin Srl</td>\n",
       "      <td>1</td>\n",
       "    </tr>\n",
       "    <tr>\n",
       "      <th>261</th>\n",
       "      <td>Digital Marketing Manager</td>\n",
       "      <td>1</td>\n",
       "    </tr>\n",
       "    <tr>\n",
       "      <th>262</th>\n",
       "      <td>Student/freelance</td>\n",
       "      <td>1</td>\n",
       "    </tr>\n",
       "    <tr>\n",
       "      <th>263</th>\n",
       "      <td>Data Scientist</td>\n",
       "      <td>1</td>\n",
       "    </tr>\n",
       "    <tr>\n",
       "      <th>264</th>\n",
       "      <td>Cofounder of Aquapioneers</td>\n",
       "      <td>1</td>\n",
       "    </tr>\n",
       "    <tr>\n",
       "      <th>265</th>\n",
       "      <td>Works Director Precision Engineers</td>\n",
       "      <td>1</td>\n",
       "    </tr>\n",
       "    <tr>\n",
       "      <th>266</th>\n",
       "      <td>Entrepreneurship &amp; Innovation @ EC</td>\n",
       "      <td>1</td>\n",
       "    </tr>\n",
       "    <tr>\n",
       "      <th>267</th>\n",
       "      <td>Prodution manager</td>\n",
       "      <td>1</td>\n",
       "    </tr>\n",
       "    <tr>\n",
       "      <th>268</th>\n",
       "      <td>Designer Entrepreneur</td>\n",
       "      <td>1</td>\n",
       "    </tr>\n",
       "    <tr>\n",
       "      <th>269</th>\n",
       "      <td>J. Bottu 25, 917 24</td>\n",
       "      <td>1</td>\n",
       "    </tr>\n",
       "    <tr>\n",
       "      <th>270</th>\n",
       "      <td>Programme Lead</td>\n",
       "      <td>1</td>\n",
       "    </tr>\n",
       "    <tr>\n",
       "      <th>271</th>\n",
       "      <td>Ceramacist</td>\n",
       "      <td>1</td>\n",
       "    </tr>\n",
       "    <tr>\n",
       "      <th>272</th>\n",
       "      <td>Vlastník</td>\n",
       "      <td>1</td>\n",
       "    </tr>\n",
       "    <tr>\n",
       "      <th>273</th>\n",
       "      <td>Sales director</td>\n",
       "      <td>1</td>\n",
       "    </tr>\n",
       "    <tr>\n",
       "      <th>274</th>\n",
       "      <td>legal consultant</td>\n",
       "      <td>1</td>\n",
       "    </tr>\n",
       "    <tr>\n",
       "      <th>275</th>\n",
       "      <td>managing director</td>\n",
       "      <td>1</td>\n",
       "    </tr>\n",
       "    <tr>\n",
       "      <th>276</th>\n",
       "      <td>Professor and Researcher of Design</td>\n",
       "      <td>1</td>\n",
       "    </tr>\n",
       "    <tr>\n",
       "      <th>277</th>\n",
       "      <td>Salesman</td>\n",
       "      <td>1</td>\n",
       "    </tr>\n",
       "    <tr>\n",
       "      <th>278</th>\n",
       "      <td>Lecturer and researcher at the Faculty of Engi...</td>\n",
       "      <td>1</td>\n",
       "    </tr>\n",
       "    <tr>\n",
       "      <th>279</th>\n",
       "      <td>tecnologie stampe</td>\n",
       "      <td>1</td>\n",
       "    </tr>\n",
       "    <tr>\n",
       "      <th>280</th>\n",
       "      <td>Laboratory manager</td>\n",
       "      <td>1</td>\n",
       "    </tr>\n",
       "    <tr>\n",
       "      <th>281</th>\n",
       "      <td>Co-founder of RE:Lab</td>\n",
       "      <td>1</td>\n",
       "    </tr>\n",
       "    <tr>\n",
       "      <th>282</th>\n",
       "      <td>Experience Design</td>\n",
       "      <td>1</td>\n",
       "    </tr>\n",
       "    <tr>\n",
       "      <th>283</th>\n",
       "      <td>Fashion designer</td>\n",
       "      <td>1</td>\n",
       "    </tr>\n",
       "    <tr>\n",
       "      <th>284</th>\n",
       "      <td>manufacturer</td>\n",
       "      <td>1</td>\n",
       "    </tr>\n",
       "    <tr>\n",
       "      <th>285</th>\n",
       "      <td>Marketing</td>\n",
       "      <td>1</td>\n",
       "    </tr>\n",
       "    <tr>\n",
       "      <th>286</th>\n",
       "      <td>Origamist</td>\n",
       "      <td>1</td>\n",
       "    </tr>\n",
       "  </tbody>\n",
       "</table>\n",
       "<p>287 rows × 2 columns</p>\n",
       "</div>"
      ],
      "text/plain": [
       "                                                  Jobs  Count\n",
       "0                                           Researcher     16\n",
       "1                                             Designer     12\n",
       "2                                                  CEO     11\n",
       "3                                             designer     10\n",
       "4                                         Entrepreneur     10\n",
       "5                                              Student      7\n",
       "6                                            Architect      7\n",
       "7                                             Director      7\n",
       "8                                              manager      6\n",
       "9                                           Consultant      6\n",
       "10                                            Engineer      6\n",
       "11                                     project manager      5\n",
       "12                              Entrepreneur / Partner      5\n",
       "13                                           architect      4\n",
       "14                                   Managing Director      4\n",
       "15                                     Project Manager      4\n",
       "16                                     Project manager      4\n",
       "17                                               Maker      4\n",
       "18                                            Slovakia      3\n",
       "19                                           Developer      3\n",
       "20                                           Slovensko      3\n",
       "21                                                 CTO      3\n",
       "22                                             Teacher      3\n",
       "23                                             Manager      3\n",
       "24                                             Curator      2\n",
       "25                                              tester      2\n",
       "26                                          researcher      2\n",
       "27                                               96001      2\n",
       "28                     designer, multimedia consultant      2\n",
       "29                                  Technical Director      2\n",
       "..                                                 ...    ...\n",
       "257                                         HR manager      1\n",
       "258                                    FabLab Director      1\n",
       "259                               Economic Development      1\n",
       "260                      Engineer and CEO at Setin Srl      1\n",
       "261                          Digital Marketing Manager      1\n",
       "262                                  Student/freelance      1\n",
       "263                                     Data Scientist      1\n",
       "264                          Cofounder of Aquapioneers      1\n",
       "265                 Works Director Precision Engineers      1\n",
       "266                 Entrepreneurship & Innovation @ EC      1\n",
       "267                                  Prodution manager      1\n",
       "268                              Designer Entrepreneur      1\n",
       "269                                J. Bottu 25, 917 24      1\n",
       "270                                     Programme Lead      1\n",
       "271                                         Ceramacist      1\n",
       "272                                           Vlastník      1\n",
       "273                                     Sales director      1\n",
       "274                                   legal consultant      1\n",
       "275                                  managing director      1\n",
       "276                 Professor and Researcher of Design      1\n",
       "277                                           Salesman      1\n",
       "278  Lecturer and researcher at the Faculty of Engi...      1\n",
       "279                                  tecnologie stampe      1\n",
       "280                                 Laboratory manager      1\n",
       "281                               Co-founder of RE:Lab      1\n",
       "282                                  Experience Design      1\n",
       "283                                   Fashion designer      1\n",
       "284                                       manufacturer      1\n",
       "285                                          Marketing      1\n",
       "286                                          Origamist      1\n",
       "\n",
       "[287 rows x 2 columns]"
      ]
     },
     "execution_count": 29,
     "metadata": {},
     "output_type": "execute_result"
    }
   ],
   "source": [
    "import pandas as pd\n",
    "jobs_list = pd.DataFrame.from_dict(count_jobs, orient='index').reset_index()\n",
    "jobs_list = jobs_list.rename(columns={'index':'Jobs', 0:'Count'})\n",
    "jobs_list = jobs_list.sort_values('Count', ascending=False).reset_index(drop=True)\n",
    "\n",
    "print (\"Total Number of different Jobs of Capsule CRM users: \" + str(len(set(count_cities))) )\n",
    "jobs_list"
   ]
  },
  {
   "cell_type": "code",
   "execution_count": null,
   "metadata": {
    "collapsed": true,
    "deletable": true,
    "editable": true
   },
   "outputs": [],
   "source": [
    "import matplotlib.pyplot as plt; plt.rcdefaults()\n",
    "import numpy as np\n",
    "import matplotlib.pyplot as plt\n",
    "plt.figure(figsize=(9,6))\n",
    "labels = list(cities_list[:20]['Cities'])\n",
    "y_pos = np.arange(len(list(cities_list[:20]['Cities'])))\n",
    "sizes = list(cities_list[:20]['Count'])\n",
    "\n",
    "labels.reverse()\n",
    "sizes.reverse()\n",
    "\n",
    "plt.barh(y_pos, sizes, alpha=0.6, height=0.5)\n",
    "plt.yticks(y_pos, labels)\n",
    "plt.xlabel('Number of Counts')\n",
    "plt.ylabel('Cities')\n",
    "plt.title('City Distribution of Capsule CRM Users')\n",
    "\n",
    "plt.show()"
   ]
  },
  {
   "cell_type": "code",
   "execution_count": 92,
   "metadata": {
    "collapsed": false,
    "deletable": true,
    "editable": true
   },
   "outputs": [
    {
     "data": {
      "image/png": "[encoded data removed]",
      "text/plain": [
       "<matplotlib.figure.Figure at 0x177a4500828>"
      ]
     },
     "metadata": {},
     "output_type": "display_data"
    }
   ],
   "source": [
    "import matplotlib.pyplot as plt; plt.rcdefaults()\n",
    "import numpy as np\n",
    "import matplotlib.pyplot as plt\n",
    "plt.figure(figsize=(9,6))\n",
    "labels = list(jobs_list[:20]['Jobs'])\n",
    "y_pos = np.arange(len(list(jobs_list[:20]['Jobs'])))\n",
    "sizes = list(jobs_list[:20]['Count'])\n",
    " \n",
    "\n",
    "labels.reverse()\n",
    "sizes.reverse()\n",
    "           \n",
    "plt.barh(y_pos, sizes, alpha=0.6, height=.5)\n",
    "plt.yticks(y_pos, labels)\n",
    "plt.xlabel('Number of Counts')\n",
    "plt.ylabel('Cities')\n",
    "plt.title('City Distribution of Capsule CRM Users')\n",
    "\n",
    "plt.show()"
   ]
  },
  {
   "cell_type": "markdown",
   "metadata": {
    "deletable": true,
    "editable": true
   },
   "source": [
    "### Twitter Network Graph Based on Follow Relationship"
   ]
  },
  {
   "cell_type": "code",
   "execution_count": null,
   "metadata": {
    "collapsed": true
   },
   "outputs": [],
   "source": [
    "import requests\n",
    "import json\n",
    "import matplotlib.pyplot as plt\n",
    "import pandas as pd\n",
    "import networkx as nx\n",
    "%matplotlib inline\n",
    "\n",
    "insightIP = 'http://178.62.229.16'\n",
    "insightPort = '8484'\n",
    "insightVersion = 'v1.0'\n",
    "\n",
    "insightSetting = insightIP + ':' + insightPort + '/api/' + insightVersion \n",
    "api_key = \"\" #needs to be filled"
   ]
  },
  {
   "cell_type": "code",
   "execution_count": null,
   "metadata": {
    "collapsed": true
   },
   "outputs": [],
   "source": [
    "om_users = []\n",
    "\n",
    "request = '/omn_crawler/get_om_user_profiles?page='\n",
    "\n",
    "page = 1\n",
    "while(True):\n",
    "    res = requests.get(insightSetting + request + str(page) + '&' + 'api_key=' + api_key)\n",
    "    if len(res.json()['users']) == 0:\n",
    "        break\n",
    "    om_users.extend(res.json()['users'])\n",
    "    #print(om_users)\n",
    "    page += 1\n",
    "    \n",
    "twitter_users = [omu['twitter_profile']  for omu in om_users if 'twitter_profile' in omu]\n",
    "crm_users = [omu['capsule_profile']  for omu in om_users if 'capsule_profile' in omu]"
   ]
  },
  {
   "cell_type": "markdown",
   "metadata": {
    "deletable": true,
    "editable": true
   },
   "source": [
    "Below cell took lots of time to gather all the follow relationship, so run on your own risk :)"
   ]
  },
  {
   "cell_type": "code",
   "execution_count": null,
   "metadata": {
    "collapsed": true,
    "deletable": true,
    "editable": true
   },
   "outputs": [],
   "source": [
    "twitter_follower_ids = []\n",
    "to_date = \"2018-02-05\"\n",
    "request = '/omn_crawler/twitter/get_followers?to_date=' + to_date + '&'\n",
    "\n",
    "\n",
    "for tu in twitter_users:\n",
    "    for cu in crm_users:\n",
    "        #print(tu['screen_name'])\n",
    "        page = 1\n",
    "        follower_ids = []\n",
    "        while(True):\n",
    "            res = requests.get(insightSetting + request + 'crm_ids=[' + str(cu['id']) + ']&page=' + str(page) + '&' + 'api_key=' + api_key)\n",
    "            if len(res.json()['users'][0]['follower_ids']) == 0:\n",
    "                break\n",
    "            fids = [fid['follower_id'] for fid in res.json()['users'][0]['follower_ids']]\n",
    "            follower_ids.extend(fids)\n",
    "            page += 1\n",
    "        twitter_follower_ids.append({\"user_id\": tu['id_str'],  \"screen_name\": tu['screen_name'], \"follower_ids\": follower_ids})"
   ]
  },
  {
   "cell_type": "code",
   "execution_count": 106,
   "metadata": {
    "collapsed": false,
    "deletable": true,
    "editable": true
   },
   "outputs": [],
   "source": [
    "df_twitter_follower_ids = pd.DataFrame.from_dict(twitter_follower_ids, orient='columns', dtype=None)\n",
    "twitter_ids = list(df_twitter_follower_ids[\"user_id\"])\n",
    "twitter_snames = list(df_twitter_follower_ids[\"screen_name\"])\n",
    "follower_ids = list(df_twitter_follower_ids[\"follower_ids\"])"
   ]
  },
  {
   "cell_type": "code",
   "execution_count": 107,
   "metadata": {
    "collapsed": true,
    "deletable": true,
    "editable": true
   },
   "outputs": [
    {
     "data": {
      "text/html": [
       "<div>\n",
       "<table border=\"1\" class=\"dataframe\">\n",
       "  <thead>\n",
       "    <tr style=\"text-align: right;\">\n",
       "      <th></th>\n",
       "      <th>follower_ids</th>\n",
       "      <th>screen_name</th>\n",
       "      <th>user_id</th>\n",
       "    </tr>\n",
       "  </thead>\n",
       "  <tbody>\n",
       "    <tr>\n",
       "      <th>0</th>\n",
       "      <td>[4068394035, 14349894, 923614700449001472, 784...</td>\n",
       "      <td>dariomarmo_lama</td>\n",
       "      <td>818381158715113472</td>\n",
       "    </tr>\n",
       "    <tr>\n",
       "      <th>1</th>\n",
       "      <td>[939916173520637953, 4665031881, 9467034491435...</td>\n",
       "      <td>UniBogazici</td>\n",
       "      <td>323040062</td>\n",
       "    </tr>\n",
       "    <tr>\n",
       "      <th>2</th>\n",
       "      <td>[]</td>\n",
       "      <td>akbayraksemih</td>\n",
       "      <td>455237513</td>\n",
       "    </tr>\n",
       "    <tr>\n",
       "      <th>3</th>\n",
       "      <td>[216668381, 5794752, 168266787, 3307185399, 80...</td>\n",
       "      <td>arman_boyaci</td>\n",
       "      <td>289364321</td>\n",
       "    </tr>\n",
       "    <tr>\n",
       "      <th>4</th>\n",
       "      <td>[2398323684, 488248432, 131713514, 288980795, ...</td>\n",
       "      <td>TheOpenShoes</td>\n",
       "      <td>2185231146</td>\n",
       "    </tr>\n",
       "    <tr>\n",
       "      <th>5</th>\n",
       "      <td>[169448030, 949996710218125312, 1574976486, 23...</td>\n",
       "      <td>Bihurgunea</td>\n",
       "      <td>10475742</td>\n",
       "    </tr>\n",
       "    <tr>\n",
       "      <th>6</th>\n",
       "      <td>[423842030, 2376426411, 149048016, 94385241585...</td>\n",
       "      <td>IBatuz</td>\n",
       "      <td>118033273</td>\n",
       "    </tr>\n",
       "    <tr>\n",
       "      <th>7</th>\n",
       "      <td>[573001434, 155480279, 72246714, 95728828, 936...</td>\n",
       "      <td>sharebot3dstore</td>\n",
       "      <td>3986668937</td>\n",
       "    </tr>\n",
       "    <tr>\n",
       "      <th>8</th>\n",
       "      <td>[158039222, 854441594384261120, 2722008668, 58...</td>\n",
       "      <td>andrecatta</td>\n",
       "      <td>182114889</td>\n",
       "    </tr>\n",
       "    <tr>\n",
       "      <th>9</th>\n",
       "      <td>[196056785, 1488363122, 71074539, 38629459, 95...</td>\n",
       "      <td>AitorSSM</td>\n",
       "      <td>74763818</td>\n",
       "    </tr>\n",
       "    <tr>\n",
       "      <th>10</th>\n",
       "      <td>[124888980, 241082946, 15480170, 7380245237658...</td>\n",
       "      <td>jabiluengo</td>\n",
       "      <td>40340945</td>\n",
       "    </tr>\n",
       "    <tr>\n",
       "      <th>11</th>\n",
       "      <td>[46474848, 1158043460, 722212394, 2397715196, ...</td>\n",
       "      <td>jaarzallus</td>\n",
       "      <td>78916588</td>\n",
       "    </tr>\n",
       "    <tr>\n",
       "      <th>12</th>\n",
       "      <td>[953709908846895104, 636080270, 3169212490, 82...</td>\n",
       "      <td>ItaliaCamp</td>\n",
       "      <td>155743931</td>\n",
       "    </tr>\n",
       "    <tr>\n",
       "      <th>13</th>\n",
       "      <td>[601589079, 79783365, 142030223, 103328810, 18...</td>\n",
       "      <td>Cicli</td>\n",
       "      <td>56114762</td>\n",
       "    </tr>\n",
       "    <tr>\n",
       "      <th>14</th>\n",
       "      <td>[2885523520, 166276221, 738563698898436096, 79...</td>\n",
       "      <td>Felfilsrl</td>\n",
       "      <td>2799579020</td>\n",
       "    </tr>\n",
       "    <tr>\n",
       "      <th>15</th>\n",
       "      <td>[902973215286464512, 303673547, 1286802314, 24...</td>\n",
       "      <td>GeonZee</td>\n",
       "      <td>576435442</td>\n",
       "    </tr>\n",
       "    <tr>\n",
       "      <th>16</th>\n",
       "      <td>[110519686, 757144396643049472, 95180878920383...</td>\n",
       "      <td>erika_rushton</td>\n",
       "      <td>3408866171</td>\n",
       "    </tr>\n",
       "    <tr>\n",
       "      <th>17</th>\n",
       "      <td>[838853179353751553, 216558300, 90000768947187...</td>\n",
       "      <td>Leonardo_Zampi</td>\n",
       "      <td>1145251464</td>\n",
       "    </tr>\n",
       "    <tr>\n",
       "      <th>18</th>\n",
       "      <td>[912002515163639808, 930580759, 4915464412, 14...</td>\n",
       "      <td>EsseGi67</td>\n",
       "      <td>34373877</td>\n",
       "    </tr>\n",
       "    <tr>\n",
       "      <th>19</th>\n",
       "      <td>[2928459231, 74963148, 937351887992643585, 373...</td>\n",
       "      <td>TommaSpagnoli</td>\n",
       "      <td>33308020</td>\n",
       "    </tr>\n",
       "    <tr>\n",
       "      <th>20</th>\n",
       "      <td>[4068394035, 96396125, 14349894, 7138185635853...</td>\n",
       "      <td>LaMartelloni</td>\n",
       "      <td>3651700463</td>\n",
       "    </tr>\n",
       "    <tr>\n",
       "      <th>21</th>\n",
       "      <td>[947486843649523717, 951140287300108288, 95081...</td>\n",
       "      <td>Fabtotum</td>\n",
       "      <td>550526781</td>\n",
       "    </tr>\n",
       "    <tr>\n",
       "      <th>22</th>\n",
       "      <td>[4696681459, 101882806, 1907753629, 8804343529...</td>\n",
       "      <td>GEKONAVSAT</td>\n",
       "      <td>1949718132</td>\n",
       "    </tr>\n",
       "    <tr>\n",
       "      <th>23</th>\n",
       "      <td>[2361351002, 2502780324, 2179784424, 216911967...</td>\n",
       "      <td>_Intech3d</td>\n",
       "      <td>780501289063055360</td>\n",
       "    </tr>\n",
       "    <tr>\n",
       "      <th>24</th>\n",
       "      <td>[3341211700, 2932142098, 77979735, 130216831, ...</td>\n",
       "      <td>josu_oleaga</td>\n",
       "      <td>204672386</td>\n",
       "    </tr>\n",
       "    <tr>\n",
       "      <th>25</th>\n",
       "      <td>[2315394278, 768160802801065984, 4085346531, 1...</td>\n",
       "      <td>LJMUFabLab</td>\n",
       "      <td>2215622562</td>\n",
       "    </tr>\n",
       "    <tr>\n",
       "      <th>26</th>\n",
       "      <td>[1488460416, 222582195, 919976686715883520, 30...</td>\n",
       "      <td>jamieisboss</td>\n",
       "      <td>8030722</td>\n",
       "    </tr>\n",
       "    <tr>\n",
       "      <th>27</th>\n",
       "      <td>[899772125673861124, 2899218749, 73703081, 898...</td>\n",
       "      <td>makeliverpool</td>\n",
       "      <td>4470628702</td>\n",
       "    </tr>\n",
       "    <tr>\n",
       "      <th>28</th>\n",
       "      <td>[3363821973, 949592399336132608, 7547351943101...</td>\n",
       "      <td>WinterandKurth</td>\n",
       "      <td>865583883814883328</td>\n",
       "    </tr>\n",
       "    <tr>\n",
       "      <th>29</th>\n",
       "      <td>[990708156, 925363454797520897, 90724570874223...</td>\n",
       "      <td>AngelaOrigami</td>\n",
       "      <td>2829273340</td>\n",
       "    </tr>\n",
       "    <tr>\n",
       "      <th>...</th>\n",
       "      <td>...</td>\n",
       "      <td>...</td>\n",
       "      <td>...</td>\n",
       "    </tr>\n",
       "    <tr>\n",
       "      <th>171</th>\n",
       "      <td>[201432428, 1331600935, 268630423, 14462316, 2...</td>\n",
       "      <td>pendolare</td>\n",
       "      <td>14162405</td>\n",
       "    </tr>\n",
       "    <tr>\n",
       "      <th>172</th>\n",
       "      <td>[35874536, 879483449505189890, 810876688057958...</td>\n",
       "      <td>ekocean</td>\n",
       "      <td>292972245</td>\n",
       "    </tr>\n",
       "    <tr>\n",
       "      <th>173</th>\n",
       "      <td>[910158576, 923517125335142400, 78318866591685...</td>\n",
       "      <td>tknika</td>\n",
       "      <td>152954208</td>\n",
       "    </tr>\n",
       "    <tr>\n",
       "      <th>174</th>\n",
       "      <td>[2467266534, 176763018, 180301203, 192837711, ...</td>\n",
       "      <td>voost</td>\n",
       "      <td>171008822</td>\n",
       "    </tr>\n",
       "    <tr>\n",
       "      <th>175</th>\n",
       "      <td>[3291929295, 472126692, 584704149, 532208541]</td>\n",
       "      <td>martinalaini</td>\n",
       "      <td>856288292</td>\n",
       "    </tr>\n",
       "    <tr>\n",
       "      <th>176</th>\n",
       "      <td>[951519881987543046, 808711868550443008, 40734...</td>\n",
       "      <td>OpenLabMadrid</td>\n",
       "      <td>4824961907</td>\n",
       "    </tr>\n",
       "    <tr>\n",
       "      <th>177</th>\n",
       "      <td>[953871761099116544, 546262696, 165771096, 336...</td>\n",
       "      <td>mmtoran</td>\n",
       "      <td>402171547</td>\n",
       "    </tr>\n",
       "    <tr>\n",
       "      <th>178</th>\n",
       "      <td>[845918800964915200, 7032502, 9264050871776624...</td>\n",
       "      <td>OrchestraNoise</td>\n",
       "      <td>3404118670</td>\n",
       "    </tr>\n",
       "    <tr>\n",
       "      <th>179</th>\n",
       "      <td>[951071521937772544, 2827950054, 906434047, 78...</td>\n",
       "      <td>zbattiz</td>\n",
       "      <td>306211107</td>\n",
       "    </tr>\n",
       "    <tr>\n",
       "      <th>180</th>\n",
       "      <td>[277401739, 277169100, 952898983021764608, 723...</td>\n",
       "      <td>igoouk</td>\n",
       "      <td>38631815</td>\n",
       "    </tr>\n",
       "    <tr>\n",
       "      <th>181</th>\n",
       "      <td>[2605647229, 307743766, 951321399909584901, 15...</td>\n",
       "      <td>aamonnz</td>\n",
       "      <td>7409472</td>\n",
       "    </tr>\n",
       "    <tr>\n",
       "      <th>182</th>\n",
       "      <td>[467885779, 907267377808777216, 83436605136633...</td>\n",
       "      <td>pugh31</td>\n",
       "      <td>332515337</td>\n",
       "    </tr>\n",
       "    <tr>\n",
       "      <th>183</th>\n",
       "      <td>[1303479313, 40206882, 953570624731058176, 951...</td>\n",
       "      <td>DIGETEX</td>\n",
       "      <td>78272784</td>\n",
       "    </tr>\n",
       "    <tr>\n",
       "      <th>184</th>\n",
       "      <td>[882679088078614535, 3094794831, 208921675, 85...</td>\n",
       "      <td>apassani</td>\n",
       "      <td>14183782</td>\n",
       "    </tr>\n",
       "    <tr>\n",
       "      <th>185</th>\n",
       "      <td>[72576111, 3349700356, 2184654363, 1192960148,...</td>\n",
       "      <td>kirstenlearna</td>\n",
       "      <td>1077163963</td>\n",
       "    </tr>\n",
       "    <tr>\n",
       "      <th>186</th>\n",
       "      <td>[234008740, 411003091, 874482827525533699, 160...</td>\n",
       "      <td>LorenzoDuroux</td>\n",
       "      <td>1012929314</td>\n",
       "    </tr>\n",
       "    <tr>\n",
       "      <th>187</th>\n",
       "      <td>[923563213169614849, 177943557, 92176493119585...</td>\n",
       "      <td>itink_tinkering</td>\n",
       "      <td>1636359433</td>\n",
       "    </tr>\n",
       "    <tr>\n",
       "      <th>188</th>\n",
       "      <td>[2786279753, 925419486777364480, 9525183339533...</td>\n",
       "      <td>dcuartielles</td>\n",
       "      <td>91781128</td>\n",
       "    </tr>\n",
       "    <tr>\n",
       "      <th>189</th>\n",
       "      <td>[953657456634327040, 280413364, 843071383, 848...</td>\n",
       "      <td>top_ix</td>\n",
       "      <td>11980142</td>\n",
       "    </tr>\n",
       "    <tr>\n",
       "      <th>190</th>\n",
       "      <td>[319122340, 1522188738, 64377405, 3081606526, ...</td>\n",
       "      <td>KayhanYavuz</td>\n",
       "      <td>62057665</td>\n",
       "    </tr>\n",
       "    <tr>\n",
       "      <th>191</th>\n",
       "      <td>[]</td>\n",
       "      <td>mugnai_matteo</td>\n",
       "      <td>4019657254</td>\n",
       "    </tr>\n",
       "    <tr>\n",
       "      <th>192</th>\n",
       "      <td>[586491893, 599398586, 408653250, 133264024, 7...</td>\n",
       "      <td>amministrazione</td>\n",
       "      <td>46708155</td>\n",
       "    </tr>\n",
       "    <tr>\n",
       "      <th>193</th>\n",
       "      <td>[]</td>\n",
       "      <td>bussimauriPro</td>\n",
       "      <td>4030824261</td>\n",
       "    </tr>\n",
       "    <tr>\n",
       "      <th>194</th>\n",
       "      <td>[]</td>\n",
       "      <td>hazalkucuk</td>\n",
       "      <td>282201268</td>\n",
       "    </tr>\n",
       "    <tr>\n",
       "      <th>195</th>\n",
       "      <td>[740574313, 69320085, 908583507810820096, 4829...</td>\n",
       "      <td>curealte</td>\n",
       "      <td>34956278</td>\n",
       "    </tr>\n",
       "    <tr>\n",
       "      <th>196</th>\n",
       "      <td>[932882999510753280, 924760950472888321, 85390...</td>\n",
       "      <td>deniz3ok</td>\n",
       "      <td>2401307256</td>\n",
       "    </tr>\n",
       "    <tr>\n",
       "      <th>197</th>\n",
       "      <td>[]</td>\n",
       "      <td>paolo11180735</td>\n",
       "      <td>946124676237070337</td>\n",
       "    </tr>\n",
       "    <tr>\n",
       "      <th>198</th>\n",
       "      <td>[953638924081139712, 240323834, 1284051589, 15...</td>\n",
       "      <td>andreafspeziale</td>\n",
       "      <td>207233683</td>\n",
       "    </tr>\n",
       "    <tr>\n",
       "      <th>199</th>\n",
       "      <td>[912246422497579009, 806789651251924992, 33612...</td>\n",
       "      <td>PaoloCombi</td>\n",
       "      <td>803626705554259969</td>\n",
       "    </tr>\n",
       "    <tr>\n",
       "      <th>200</th>\n",
       "      <td>[935128286912548865, 41008336, 61011524, 71537...</td>\n",
       "      <td>cenybar</td>\n",
       "      <td>900611552</td>\n",
       "    </tr>\n",
       "  </tbody>\n",
       "</table>\n",
       "<p>201 rows × 3 columns</p>\n",
       "</div>"
      ],
      "text/plain": [
       "                                          follower_ids      screen_name  \\\n",
       "0    [4068394035, 14349894, 923614700449001472, 784...  dariomarmo_lama   \n",
       "1    [939916173520637953, 4665031881, 9467034491435...      UniBogazici   \n",
       "2                                                   []    akbayraksemih   \n",
       "3    [216668381, 5794752, 168266787, 3307185399, 80...     arman_boyaci   \n",
       "4    [2398323684, 488248432, 131713514, 288980795, ...     TheOpenShoes   \n",
       "5    [169448030, 949996710218125312, 1574976486, 23...       Bihurgunea   \n",
       "6    [423842030, 2376426411, 149048016, 94385241585...           IBatuz   \n",
       "7    [573001434, 155480279, 72246714, 95728828, 936...  sharebot3dstore   \n",
       "8    [158039222, 854441594384261120, 2722008668, 58...       andrecatta   \n",
       "9    [196056785, 1488363122, 71074539, 38629459, 95...         AitorSSM   \n",
       "10   [124888980, 241082946, 15480170, 7380245237658...       jabiluengo   \n",
       "11   [46474848, 1158043460, 722212394, 2397715196, ...       jaarzallus   \n",
       "12   [953709908846895104, 636080270, 3169212490, 82...       ItaliaCamp   \n",
       "13   [601589079, 79783365, 142030223, 103328810, 18...            Cicli   \n",
       "14   [2885523520, 166276221, 738563698898436096, 79...        Felfilsrl   \n",
       "15   [902973215286464512, 303673547, 1286802314, 24...          GeonZee   \n",
       "16   [110519686, 757144396643049472, 95180878920383...    erika_rushton   \n",
       "17   [838853179353751553, 216558300, 90000768947187...   Leonardo_Zampi   \n",
       "18   [912002515163639808, 930580759, 4915464412, 14...         EsseGi67   \n",
       "19   [2928459231, 74963148, 937351887992643585, 373...    TommaSpagnoli   \n",
       "20   [4068394035, 96396125, 14349894, 7138185635853...     LaMartelloni   \n",
       "21   [947486843649523717, 951140287300108288, 95081...         Fabtotum   \n",
       "22   [4696681459, 101882806, 1907753629, 8804343529...       GEKONAVSAT   \n",
       "23   [2361351002, 2502780324, 2179784424, 216911967...        _Intech3d   \n",
       "24   [3341211700, 2932142098, 77979735, 130216831, ...      josu_oleaga   \n",
       "25   [2315394278, 768160802801065984, 4085346531, 1...       LJMUFabLab   \n",
       "26   [1488460416, 222582195, 919976686715883520, 30...      jamieisboss   \n",
       "27   [899772125673861124, 2899218749, 73703081, 898...    makeliverpool   \n",
       "28   [3363821973, 949592399336132608, 7547351943101...   WinterandKurth   \n",
       "29   [990708156, 925363454797520897, 90724570874223...    AngelaOrigami   \n",
       "..                                                 ...              ...   \n",
       "171  [201432428, 1331600935, 268630423, 14462316, 2...        pendolare   \n",
       "172  [35874536, 879483449505189890, 810876688057958...          ekocean   \n",
       "173  [910158576, 923517125335142400, 78318866591685...           tknika   \n",
       "174  [2467266534, 176763018, 180301203, 192837711, ...            voost   \n",
       "175      [3291929295, 472126692, 584704149, 532208541]     martinalaini   \n",
       "176  [951519881987543046, 808711868550443008, 40734...    OpenLabMadrid   \n",
       "177  [953871761099116544, 546262696, 165771096, 336...          mmtoran   \n",
       "178  [845918800964915200, 7032502, 9264050871776624...   OrchestraNoise   \n",
       "179  [951071521937772544, 2827950054, 906434047, 78...          zbattiz   \n",
       "180  [277401739, 277169100, 952898983021764608, 723...           igoouk   \n",
       "181  [2605647229, 307743766, 951321399909584901, 15...          aamonnz   \n",
       "182  [467885779, 907267377808777216, 83436605136633...           pugh31   \n",
       "183  [1303479313, 40206882, 953570624731058176, 951...          DIGETEX   \n",
       "184  [882679088078614535, 3094794831, 208921675, 85...         apassani   \n",
       "185  [72576111, 3349700356, 2184654363, 1192960148,...    kirstenlearna   \n",
       "186  [234008740, 411003091, 874482827525533699, 160...    LorenzoDuroux   \n",
       "187  [923563213169614849, 177943557, 92176493119585...  itink_tinkering   \n",
       "188  [2786279753, 925419486777364480, 9525183339533...     dcuartielles   \n",
       "189  [953657456634327040, 280413364, 843071383, 848...           top_ix   \n",
       "190  [319122340, 1522188738, 64377405, 3081606526, ...      KayhanYavuz   \n",
       "191                                                 []    mugnai_matteo   \n",
       "192  [586491893, 599398586, 408653250, 133264024, 7...  amministrazione   \n",
       "193                                                 []    bussimauriPro   \n",
       "194                                                 []       hazalkucuk   \n",
       "195  [740574313, 69320085, 908583507810820096, 4829...         curealte   \n",
       "196  [932882999510753280, 924760950472888321, 85390...         deniz3ok   \n",
       "197                                                 []    paolo11180735   \n",
       "198  [953638924081139712, 240323834, 1284051589, 15...  andreafspeziale   \n",
       "199  [912246422497579009, 806789651251924992, 33612...       PaoloCombi   \n",
       "200  [935128286912548865, 41008336, 61011524, 71537...          cenybar   \n",
       "\n",
       "                user_id  \n",
       "0    818381158715113472  \n",
       "1             323040062  \n",
       "2             455237513  \n",
       "3             289364321  \n",
       "4            2185231146  \n",
       "5              10475742  \n",
       "6             118033273  \n",
       "7            3986668937  \n",
       "8             182114889  \n",
       "9              74763818  \n",
       "10             40340945  \n",
       "11             78916588  \n",
       "12            155743931  \n",
       "13             56114762  \n",
       "14           2799579020  \n",
       "15            576435442  \n",
       "16           3408866171  \n",
       "17           1145251464  \n",
       "18             34373877  \n",
       "19             33308020  \n",
       "20           3651700463  \n",
       "21            550526781  \n",
       "22           1949718132  \n",
       "23   780501289063055360  \n",
       "24            204672386  \n",
       "25           2215622562  \n",
       "26              8030722  \n",
       "27           4470628702  \n",
       "28   865583883814883328  \n",
       "29           2829273340  \n",
       "..                  ...  \n",
       "171            14162405  \n",
       "172           292972245  \n",
       "173           152954208  \n",
       "174           171008822  \n",
       "175           856288292  \n",
       "176          4824961907  \n",
       "177           402171547  \n",
       "178          3404118670  \n",
       "179           306211107  \n",
       "180            38631815  \n",
       "181             7409472  \n",
       "182           332515337  \n",
       "183            78272784  \n",
       "184            14183782  \n",
       "185          1077163963  \n",
       "186          1012929314  \n",
       "187          1636359433  \n",
       "188            91781128  \n",
       "189            11980142  \n",
       "190            62057665  \n",
       "191          4019657254  \n",
       "192            46708155  \n",
       "193          4030824261  \n",
       "194           282201268  \n",
       "195            34956278  \n",
       "196          2401307256  \n",
       "197  946124676237070337  \n",
       "198           207233683  \n",
       "199  803626705554259969  \n",
       "200           900611552  \n",
       "\n",
       "[201 rows x 3 columns]"
      ]
     },
     "execution_count": 107,
     "metadata": {},
     "output_type": "execute_result"
    }
   ],
   "source": [
    "df_twitter_follower_ids"
   ]
  },
  {
   "cell_type": "code",
   "execution_count": 109,
   "metadata": {
    "collapsed": false,
    "deletable": true,
    "editable": true
   },
   "outputs": [],
   "source": [
    "# how many user is following each user in the openmaker follower network\n",
    "# this is for graph node size and edges\n",
    "\n",
    "# userPops[i] = K ==> the i-th user is followed by K users\n",
    "userPops = [0]*len(follower_ids)\n",
    "\n",
    "# userNet[i][j] = 1 ==> i follows j\n",
    "userNet = [[0 for x in range(len(follower_ids))] for y in range(len(follower_ids))]\n",
    "\n",
    "for i, flw in enumerate(follower_ids):\n",
    "    for j, u in enumerate(twitter_ids):\n",
    "        if int(u) in flw:\n",
    "            userNet[i][j] = 1\n",
    "            userPops[j] += 1"
   ]
  },
  {
   "cell_type": "code",
   "execution_count": 110,
   "metadata": {
    "collapsed": true,
    "deletable": true,
    "editable": true
   },
   "outputs": [],
   "source": [
    "G = nx.DiGraph()\n",
    "\n",
    "nodecolors = []\n",
    "nodetopics = []\n",
    "nodeSizes = []\n",
    "            \n",
    "for i in range(len(follower_ids)):\n",
    "    for j in range(len(follower_ids)):\n",
    "        if userNet[i][j] == 1:\n",
    "            G.add_edge(i,j, weight=0.3)\n",
    "\n",
    "for i in range(len(follower_ids)):\n",
    "    nodeSizes.append(1500+100*userPops[i])\n",
    "\n",
    "for i in range(len(follower_ids)):\n",
    "    G.add_node(i)\n",
    "\n",
    "edges = G.edges()\n",
    "weights = [G[u][v]['weight'] for u,v in edges]\n",
    "\n",
    "#plt.figure(1, figsize=(20,30))\n",
    "#nx.draw(G, edges=edges, width=weights, with_labels=True, node_size = nodeSizes, font_weight='bold')\n",
    "#plt.show()"
   ]
  },
  {
   "cell_type": "code",
   "execution_count": null,
   "metadata": {
    "collapsed": true,
    "deletable": true,
    "editable": true
   },
   "outputs": [],
   "source": [
    "filename = 'nodes.csv'\n",
    "f = open(filename, 'w', encoding='utf-8')\n",
    "\n",
    "f.write(\"id,sname\")\n",
    "f.write('\\n')\n",
    "for i, n in enumerate(G.nodes()):\n",
    "    f.write(str(n) + ',' + twitter_snames[n])\n",
    "    f.write('\\n')\n",
    "f.close()\n",
    "\n",
    "filename = 'edges.csv'\n",
    "f = open(filename, 'w', encoding='utf-8')\n",
    "\n",
    "f.write(\"Source,Target\")\n",
    "f.write('\\n')\n",
    "for u,v in G.edges():\n",
    "    f.write(str(u) + ',' + str(v))\n",
    "    f.write('\\n')\n",
    "f.close()"
   ]
  },
  {
   "cell_type": "markdown",
   "metadata": {
    "deletable": true,
    "editable": true
   },
   "source": [
    "<img src=\"./twitter_follower_network.svg\">"
   ]
  },
  {
   "cell_type": "markdown",
   "metadata": {
    "deletable": true,
    "editable": true
   },
   "source": [
    "### Display List view of current users\n",
    "\n",
    "Displays Twitter and Capsule CRM profiles. Sorting and filtering can be applied.\n",
    "http://138.68.92.181:8888/notebooks/InSight/OM%20Network%20Crawler%20Interaction.ipynb#All-OM-User-Profiles"
   ]
  },
  {
   "cell_type": "code",
   "execution_count": 83,
   "metadata": {
    "collapsed": false,
    "deletable": true,
    "editable": true
   },
   "outputs": [],
   "source": [
    "import requests\n",
    "import json\n",
    "\n",
    "insightIP = 'http://178.62.229.16'\n",
    "insightPort = '8484'\n",
    "insightVersion = 'v1.0'\n",
    "api_key = \"\" #needs to be filled\n",
    "\n",
    "# parameters of get_om_user_profiles are page, sort, descending, filters\n",
    "page = 1\n",
    "sorting = \"t_followers\"\n",
    "descending = \"True\" \n",
    "filters = {'min_followers':8000,'max_followers':50000}\n",
    "\n",
    "insightSetting = insightIP + ':' + insightPort + '/api/' + insightVersion \n",
    "request = '/omn_crawler/get_om_user_profiles?' + 'page=' + str(page) + '&' + 'sort=' + sorting + '&' + 'descending=' + descending + '&' + 'filters=' + str(filters) + '&' + 'api_key=' + api_key  \n",
    "\n",
    "# send a request\n",
    "res = requests.get(insightSetting + request)"
   ]
  },
  {
   "cell_type": "code",
   "execution_count": 84,
   "metadata": {
    "collapsed": false,
    "deletable": true,
    "editable": true
   },
   "outputs": [],
   "source": [
    "from IPython.display import Image, display\n",
    "\n",
    "def show_user_profile(user_data):\n",
    "    info = [\"profile_image_url\", \"name\", \"screen_name\", \"location\", \"created_at\", \"lang\", \"protected\", \"description\", \"time_zone\", \"followers_count\"]\n",
    "    for i in info:\n",
    "        if i == \"profile_image_url\":\n",
    "            display(Image(user_data[i]))\n",
    "        else:\n",
    "            print( i , \":\" ,  user_data[i])"
   ]
  },
  {
   "cell_type": "code",
   "execution_count": 85,
   "metadata": {
    "collapsed": false,
    "deletable": true,
    "editable": true
   },
   "outputs": [
    {
     "data": {
      "image/jpeg": "[encoded data removed]",
      "text/plain": [
       "<IPython.core.display.Image object>"
      ]
     },
     "metadata": {},
     "output_type": "display_data"
    },
    {
     "name": "stdout",
     "output_type": "stream",
     "text": [
      "name : David Cuartielles\n",
      "screen_name : dcuartielles\n",
      "location : Sweden\n",
      "created_at : Sun Nov 22 12:35:20 +0000 2009\n",
      "lang : es\n",
      "protected : False\n",
      "description : Co-founder of the Arduino platform: http://t.co/Ne4ecYSU, Teacher at Malmo University: http://t.co/FVlyLcAo\n",
      "time_zone : Mountain Time (US & Canada)\n",
      "followers_count : 16023\n",
      "\n",
      "\n"
     ]
    },
    {
     "data": {
      "image/jpeg": "[encoded data removed]",
      "text/plain": [
       "<IPython.core.display.Image object>"
      ]
     },
     "metadata": {},
     "output_type": "display_data"
    },
    {
     "name": "stdout",
     "output_type": "stream",
     "text": [
      "name : Homebaked\n",
      "screen_name : HomebakedA\n",
      "location : Oakfield Road, Liverpool\n",
      "created_at : Wed Jul 18 15:56:39 +0000 2012\n",
      "lang : en\n",
      "protected : False\n",
      "description : A Community-Owned Bakery and Community Land Trust, in the shadow of Liverpool Football Club.\n",
      "time_zone : Amsterdam\n",
      "followers_count : 8869\n",
      "\n",
      "\n"
     ]
    },
    {
     "data": {
      "image/jpeg": "[encoded data removed]",
      "text/plain": [
       "<IPython.core.display.Image object>"
      ]
     },
     "metadata": {},
     "output_type": "display_data"
    },
    {
     "name": "stdout",
     "output_type": "stream",
     "text": [
      "name : ItaliaCamp\n",
      "screen_name : ItaliaCamp\n",
      "location : Italy\n",
      "created_at : Tue Jun 15 00:08:00 +0000 2010\n",
      "lang : it\n",
      "protected : False\n",
      "description : Creiamo connessioni e sviluppiamo processi di innovazione sociale: #ènelnostrointeresse\n",
      "time_zone : Rome\n",
      "followers_count : 8075\n",
      "\n",
      "\n"
     ]
    }
   ],
   "source": [
    "# show the response in JSON format\n",
    "for user in res.json()['users']:\n",
    "    show_user_profile(user['twitter_profile'])\n",
    "    print()\n",
    "    print()"
   ]
  },
  {
   "cell_type": "markdown",
   "metadata": {
    "deletable": true,
    "editable": true
   },
   "source": [
    "## Profile Specific Analytics"
   ]
  },
  {
   "cell_type": "markdown",
   "metadata": {
    "deletable": true,
    "editable": true
   },
   "source": [
    "Ones a particular user is selected by the front end, we return and display information about the specific user.\n",
    "\n",
    "This service supports the followings\n",
    "\n",
    "* CRM data information\n",
    "  * http://138.68.92.181:8888/notebooks/InSight/OM%20Network%20Crawler%20Interaction.ipynb#Selected-OM-User-Profiles\n",
    "* OM Spirometer\n",
    "  * http://138.68.92.181:8888/notebooks/InSight/OM%20Spirometer.ipynb\n",
    "* OM Personalized Recommendation\n",
    "  * http://138.68.92.181:8888/notebooks/InSight/OM%20Personalized%20Recommendation.ipynb\n",
    "* Answers\n",
    "* Feedbacks\n",
    "\n",
    "You can find detailed information from the specified Jupyter Notebooks."
   ]
  },
  {
   "cell_type": "markdown",
   "metadata": {
    "deletable": true,
    "editable": true
   },
   "source": [
    "#### Twitter Profile Summary"
   ]
  },
  {
   "cell_type": "markdown",
   "metadata": {
    "deletable": true,
    "editable": true
   },
   "source": [
    "Get profile of a Twitter User"
   ]
  },
  {
   "cell_type": "code",
   "execution_count": 86,
   "metadata": {
    "collapsed": true,
    "deletable": true,
    "editable": true
   },
   "outputs": [],
   "source": [
    "import requests\n",
    "import json\n",
    "\n",
    "insightIP = 'http://178.62.229.16'\n",
    "insightPort = '8484'\n",
    "insightVersion = 'v1.0'\n",
    "insightSetting = insightIP + ':' + insightPort + '/api/' + insightVersion \n",
    "api_key = \"\" #needs to be filled\n",
    "\n",
    "crm_ids = [135377966]\n",
    "\n",
    "# send a request for a selected Twitter User\n",
    "request = '/omn_crawler/get_om_user_profiles?' + 'crm_ids=' + str(crm_ids) + '&' + 'api_key=' + api_key\n",
    "\n",
    "res = requests.get(insightSetting + request)\n",
    "twitter_profile = res.json()['users'][0]['twitter_profile']"
   ]
  },
  {
   "cell_type": "markdown",
   "metadata": {
    "deletable": true,
    "editable": true
   },
   "source": [
    "Show some information of a requested Twitter user's profile "
   ]
  },
  {
   "cell_type": "code",
   "execution_count": 87,
   "metadata": {
    "collapsed": true,
    "deletable": true,
    "editable": true
   },
   "outputs": [],
   "source": [
    "from IPython.display import Image, display\n",
    "\n",
    "def show_user_profile(user_data):\n",
    "    info = [\"profile_image_url\", \"name\", \"screen_name\", \"location\", \"created_at\", \"lang\", \"protected\", \"description\", \"time_zone\", \"followers_count\"]\n",
    "    for i in info:\n",
    "        if i == \"profile_image_url\":\n",
    "            display(Image(user_data[i]))\n",
    "        else:\n",
    "            print( i , \":\" ,  user_data[i])"
   ]
  },
  {
   "cell_type": "code",
   "execution_count": 89,
   "metadata": {
    "collapsed": false,
    "deletable": true,
    "editable": true
   },
   "outputs": [
    {
     "data": {
      "image/jpeg": "[encoded data removed]",
      "text/plain": [
       "<IPython.core.display.Image object>"
      ]
     },
     "metadata": {},
     "output_type": "display_data"
    },
    {
     "name": "stdout",
     "output_type": "stream",
     "text": [
      "name : taylan\n",
      "screen_name : AliTaylanCemgil\n",
      "location : Istanbul\n",
      "created_at : Wed Jan 11 21:29:16 +0000 2012\n",
      "lang : en\n",
      "protected : False\n",
      "description : \n",
      "time_zone : Istanbul\n",
      "followers_count : 866\n"
     ]
    }
   ],
   "source": [
    "show_user_profile(twitter_profile)"
   ]
  },
  {
   "cell_type": "markdown",
   "metadata": {
    "deletable": true,
    "editable": true
   },
   "source": [
    "### Twitter Follower Change in Time"
   ]
  },
  {
   "cell_type": "code",
   "execution_count": 90,
   "metadata": {
    "collapsed": false,
    "deletable": true,
    "editable": true
   },
   "outputs": [
    {
     "data": {
      "text/html": [
       "<script>requirejs.config({paths: { 'plotly': ['https://cdn.plot.ly/plotly-latest.min']},});if(!window.Plotly) {{require(['plotly'],function(plotly) {window.Plotly=plotly;});}}</script>"
      ],
      "text/plain": [
       "<IPython.core.display.HTML object>"
      ]
     },
     "metadata": {},
     "output_type": "display_data"
    }
   ],
   "source": [
    "import requests\n",
    "import json\n",
    "import matplotlib.pyplot as plt\n",
    "from plotly.offline import init_notebook_mode, iplot\n",
    "import plotly.tools as tls\n",
    "%matplotlib inline\n",
    "init_notebook_mode(connected=True)\n",
    "\n",
    "\n",
    "insightIP = 'http://178.62.229.16'\n",
    "insightPort = '8484'\n",
    "insightVersion = 'v1.0'\n",
    "\n",
    "insightSetting = insightIP + ':' + insightPort + '/api/' + insightVersion + '&' + 'api_key=' + api_key\n",
    "api_key = \"\" #needs to be filled\n",
    "\n",
    "# parameters of get_follower_changes\n",
    "# twitter_id -> 461494325 -> @AliTaylanCemgil\n",
    "crm_ids = [156612789]\n",
    "\n",
    "\n",
    "request = '/omp_analytics/twitter/get_follower_changes?' + 'crm_ids=' + str(crm_ids) \n",
    "\n",
    "# send a request\n",
    "res = requests.get(insightSetting + request)"
   ]
  },
  {
   "cell_type": "code",
   "execution_count": 91,
   "metadata": {
    "collapsed": false,
    "deletable": true,
    "editable": true
   },
   "outputs": [
    {
     "data": {
      "application/vnd.plotly.v1+json": {
       "data": [
        {
         "line": {
          "color": "rgba (0, 0, 255, 1)",
          "dash": "solid",
          "width": 1
         },
         "mode": "lines",
         "name": "_line0",
         "type": "scatter",
         "x": [
          0,
          1,
          2,
          3,
          4,
          5,
          6,
          7,
          8,
          9,
          10,
          11,
          12,
          13,
          14,
          15,
          16,
          17,
          18,
          19,
          20,
          21,
          22,
          23,
          24,
          25,
          26,
          27,
          28,
          29,
          30,
          31
         ],
         "xaxis": "x1",
         "y": [
          811,
          812,
          812,
          815,
          817,
          817,
          828,
          828,
          829,
          835,
          839,
          840,
          841,
          845,
          845,
          846,
          849,
          851,
          854,
          855,
          857,
          858,
          862,
          865,
          864,
          865,
          867,
          867,
          865,
          865,
          865,
          866
         ],
         "yaxis": "y1"
        },
        {
         "marker": {
          "color": "#007F00",
          "line": {
           "color": "#000000",
           "width": 0.5
          },
          "opacity": 1,
          "size": 6,
          "symbol": "dot"
         },
         "mode": "markers",
         "name": "Followers",
         "type": "scatter",
         "x": [
          0,
          1,
          2,
          3,
          4,
          5,
          6,
          7,
          8,
          9,
          10,
          11,
          12,
          13,
          14,
          15,
          16,
          17,
          18,
          19,
          20,
          21,
          22,
          23,
          24,
          25,
          26,
          27,
          28,
          29,
          30,
          31
         ],
         "xaxis": "x1",
         "y": [
          811,
          812,
          812,
          815,
          817,
          817,
          828,
          828,
          829,
          835,
          839,
          840,
          841,
          845,
          845,
          846,
          849,
          851,
          854,
          855,
          857,
          858,
          862,
          865,
          864,
          865,
          867,
          867,
          865,
          865,
          865,
          866
         ],
         "yaxis": "y1"
        }
       ],
       "layout": {
        "autosize": false,
        "height": 576,
        "hovermode": "closest",
        "margin": {
         "b": 72,
         "l": 90,
         "pad": 0,
         "r": 71,
         "t": 57
        },
        "showlegend": false,
        "title": "Change of Followers",
        "titlefont": {
         "color": "#000000",
         "size": 20
        },
        "width": 720,
        "xaxis1": {
         "anchor": "y1",
         "domain": [
          0,
          1
         ],
         "mirror": "ticks",
         "nticks": 8,
         "range": [
          0,
          31
         ],
         "showgrid": false,
         "showline": true,
         "side": "bottom",
         "tickangle": 60,
         "tickfont": {
          "family": "Courier New, monospace",
          "size": 14
         },
         "ticks": "inside",
         "ticktext": [
          "01-19",
          "01-23",
          "01-24",
          "01-25",
          "01-26",
          "01-28",
          "01-31",
          "02-01",
          "02-04",
          "02-08",
          "02-12",
          "02-13",
          "02-14",
          "02-15",
          "02-16",
          "02-17",
          "02-18",
          "02-19",
          "02-20",
          "02-21",
          "02-22",
          "02-23",
          "02-24",
          "02-25",
          "02-26",
          "02-27",
          "02-28",
          "03-01",
          "03-02",
          "03-03",
          "03-04",
          "03-05"
         ],
         "tickvals": [
          0,
          1,
          2,
          3,
          4,
          5,
          6,
          7,
          8,
          9,
          10,
          11,
          12,
          13,
          14,
          15,
          16,
          17,
          18,
          19,
          20,
          21,
          22,
          23,
          24,
          25,
          26,
          27,
          28,
          29,
          30,
          31
         ],
         "title": "Dates",
         "titlefont": {
          "color": "#000000",
          "size": 17
         },
         "type": "linear",
         "zeroline": false
        },
        "yaxis1": {
         "anchor": "x1",
         "domain": [
          0,
          1
         ],
         "mirror": "ticks",
         "nticks": 7,
         "range": [
          810,
          870
         ],
         "showgrid": false,
         "showline": true,
         "side": "left",
         "tickfont": {
          "size": 10
         },
         "ticks": "inside",
         "title": "Followers Count",
         "titlefont": {
          "color": "#000000",
          "size": 17
         },
         "type": "linear",
         "zeroline": false
        }
       }
      },
      "text/html": [
       "<div id=\"d3d864ba-c0d6-489d-a6fa-ae38828819eb\" style=\"height: 576px; width: 720px;\" class=\"plotly-graph-div\"></div><script type=\"text/javascript\">require([\"plotly\"], function(Plotly) { window.PLOTLYENV=window.PLOTLYENV || {};window.PLOTLYENV.BASE_URL=\"https://plot.ly\";Plotly.newPlot(\"d3d864ba-c0d6-489d-a6fa-ae38828819eb\", [{\"line\": {\"dash\": \"solid\", \"width\": 1.0, \"color\": \"rgba (0, 0, 255, 1)\"}, \"xaxis\": \"x1\", \"type\": \"scatter\", \"x\": [0.0, 1.0, 2.0, 3.0, 4.0, 5.0, 6.0, 7.0, 8.0, 9.0, 10.0, 11.0, 12.0, 13.0, 14.0, 15.0, 16.0, 17.0, 18.0, 19.0, 20.0, 21.0, 22.0, 23.0, 24.0, 25.0, 26.0, 27.0, 28.0, 29.0, 30.0, 31.0], \"name\": \"_line0\", \"y\": [811.0, 812.0, 812.0, 815.0, 817.0, 817.0, 828.0, 828.0, 829.0, 835.0, 839.0, 840.0, 841.0, 845.0, 845.0, 846.0, 849.0, 851.0, 854.0, 855.0, 857.0, 858.0, 862.0, 865.0, 864.0, 865.0, 867.0, 867.0, 865.0, 865.0, 865.0, 866.0], \"mode\": \"lines\", \"yaxis\": \"y1\"}, {\"marker\": {\"line\": {\"width\": 0.5, \"color\": \"#000000\"}, \"size\": 6.0, \"symbol\": \"dot\", \"color\": \"#007F00\", \"opacity\": 1}, \"xaxis\": \"x1\", \"type\": \"scatter\", \"x\": [0.0, 1.0, 2.0, 3.0, 4.0, 5.0, 6.0, 7.0, 8.0, 9.0, 10.0, 11.0, 12.0, 13.0, 14.0, 15.0, 16.0, 17.0, 18.0, 19.0, 20.0, 21.0, 22.0, 23.0, 24.0, 25.0, 26.0, 27.0, 28.0, 29.0, 30.0, 31.0], \"name\": \"Followers\", \"y\": [811.0, 812.0, 812.0, 815.0, 817.0, 817.0, 828.0, 828.0, 829.0, 835.0, 839.0, 840.0, 841.0, 845.0, 845.0, 846.0, 849.0, 851.0, 854.0, 855.0, 857.0, 858.0, 862.0, 865.0, 864.0, 865.0, 867.0, 867.0, 865.0, 865.0, 865.0, 866.0], \"mode\": \"markers\", \"yaxis\": \"y1\"}], {\"title\": \"Change of Followers\", \"titlefont\": {\"size\": 20.0, \"color\": \"#000000\"}, \"height\": 576, \"autosize\": false, \"yaxis1\": {\"mirror\": \"ticks\", \"domain\": [0.0, 1.0], \"range\": [810.0, 870.0], \"tickfont\": {\"size\": 10.0}, \"side\": \"left\", \"anchor\": \"x1\", \"title\": \"Followers Count\", \"titlefont\": {\"size\": 17.0, \"color\": \"#000000\"}, \"nticks\": 7, \"showgrid\": false, \"showline\": true, \"type\": \"linear\", \"zeroline\": false, \"ticks\": \"inside\"}, \"hovermode\": \"closest\", \"width\": 720, \"xaxis1\": {\"mirror\": \"ticks\", \"domain\": [0.0, 1.0], \"range\": [0.0, 31.0], \"tickfont\": {\"size\": 14, \"family\": \"Courier New, monospace\"}, \"tickvals\": [0, 1, 2, 3, 4, 5, 6, 7, 8, 9, 10, 11, 12, 13, 14, 15, 16, 17, 18, 19, 20, 21, 22, 23, 24, 25, 26, 27, 28, 29, 30, 31], \"side\": \"bottom\", \"anchor\": \"y1\", \"ticktext\": [\"01-19\", \"01-23\", \"01-24\", \"01-25\", \"01-26\", \"01-28\", \"01-31\", \"02-01\", \"02-04\", \"02-08\", \"02-12\", \"02-13\", \"02-14\", \"02-15\", \"02-16\", \"02-17\", \"02-18\", \"02-19\", \"02-20\", \"02-21\", \"02-22\", \"02-23\", \"02-24\", \"02-25\", \"02-26\", \"02-27\", \"02-28\", \"03-01\", \"03-02\", \"03-03\", \"03-04\", \"03-05\"], \"title\": \"Dates\", \"titlefont\": {\"size\": 17.0, \"color\": \"#000000\"}, \"nticks\": 8, \"showgrid\": false, \"showline\": true, \"type\": \"linear\", \"tickangle\": 60, \"zeroline\": false, \"ticks\": \"inside\"}, \"showlegend\": false, \"margin\": {\"t\": 57, \"pad\": 0, \"l\": 90, \"r\": 71, \"b\": 72}}, {\"linkText\": \"Export to plot.ly\", \"showLink\": true})});</script>"
      ]
     },
     "metadata": {},
     "output_type": "display_data"
    }
   ],
   "source": [
    "twitter_id = res.json()['users'][0][\"twitter_id\"]\n",
    "crm_id = res.json()['users'][0][\"crm_id\"]\n",
    "follower_counts = res.json()['users'][0][\"follower_counts\"]\n",
    "follower_dates = res.json()['users'][0][\"follower_dates\"]\n",
    "\n",
    "follower_dates = [fcd[5:] for fcd in follower_dates]\n",
    "\n",
    "font1 = {'size'   : 20}\n",
    "font2 = {'size'   : 17}\n",
    "plt.switch_backend('agg')\n",
    "mpl_fig = plt.figure(figsize=(10,8))\n",
    "plt.title(\"Change of Followers\", **font1)\n",
    "plt.plot( range(len(follower_counts)), follower_counts)\n",
    "plt.plot( range(len(follower_counts)), follower_counts, 'o', label=\"Followers\")\n",
    "plt.xlim(0, len(follower_counts)-1)\n",
    "#plt.ylim(0, max(follower_counts)+10)\n",
    "plt.xlabel(\"Dates\", **font2)\n",
    "plt.ylabel(\"Followers Count\", **font2)\n",
    "\n",
    "plotly_fig = tls.mpl_to_plotly( mpl_fig )\n",
    "\n",
    "\n",
    "\n",
    "plotly_fig['layout']['xaxis1'].update({'ticktext': follower_dates,\n",
    "                                       'tickvals': list(range(len(follower_counts))),\n",
    "                                       'tickfont': {'size': 14, 'family':'Courier New, monospace'},\n",
    "                                       'tickangle': 60\n",
    "                                       })\n",
    "\n",
    "iplot(plotly_fig)"
   ]
  },
  {
   "cell_type": "markdown",
   "metadata": {
    "deletable": true,
    "editable": true
   },
   "source": [
    "### Twitter Mention List"
   ]
  },
  {
   "cell_type": "code",
   "execution_count": 42,
   "metadata": {
    "collapsed": false,
    "deletable": true,
    "editable": true
   },
   "outputs": [],
   "source": [
    "import requests\n",
    "import json\n",
    "import operator\n",
    "import pandas as pd\n",
    "\n",
    "\n",
    "insightIP = 'http://178.62.229.16'\n",
    "insightPort = '8484'\n",
    "insightVersion = 'v1.0'\n",
    "\n",
    "insightSetting = insightIP + ':' + insightPort + '/api/' + insightVersion \n",
    "api_key = \"\" #needs to be filled\n",
    "\n",
    "# parameters of get_follower_changes\n",
    "crm_ids = [156612789]\n",
    "\n",
    "\n",
    "request = '/omn_crawler/twitter/get_mentions?' + 'crm_ids=' + str(crm_ids) + '&' + 'api_key=' + api_key\n",
    "\n",
    "# send a request\n",
    "res = requests.get(insightSetting + request)"
   ]
  },
  {
   "cell_type": "code",
   "execution_count": 43,
   "metadata": {
    "collapsed": false,
    "deletable": true,
    "editable": true
   },
   "outputs": [],
   "source": [
    "mentioned_to = res.json()['users'][0]['mentioned_to']\n",
    "mentioned_to.sort(key=operator.itemgetter('count'), reverse=True)\n",
    "df_mentioned_to = pd.DataFrame.from_dict(mentioned_to)"
   ]
  },
  {
   "cell_type": "code",
   "execution_count": 44,
   "metadata": {
    "collapsed": false,
    "deletable": true,
    "editable": true
   },
   "outputs": [
    {
     "data": {
      "text/html": [
       "<div>\n",
       "<table border=\"1\" class=\"dataframe\">\n",
       "  <thead>\n",
       "    <tr style=\"text-align: right;\">\n",
       "      <th></th>\n",
       "      <th>count</th>\n",
       "      <th>twitter_id</th>\n",
       "    </tr>\n",
       "  </thead>\n",
       "  <tbody>\n",
       "    <tr>\n",
       "      <th>0</th>\n",
       "      <td>97</td>\n",
       "      <td>166477660</td>\n",
       "    </tr>\n",
       "    <tr>\n",
       "      <th>1</th>\n",
       "      <td>84</td>\n",
       "      <td>505670972</td>\n",
       "    </tr>\n",
       "    <tr>\n",
       "      <th>2</th>\n",
       "      <td>43</td>\n",
       "      <td>50354388</td>\n",
       "    </tr>\n",
       "    <tr>\n",
       "      <th>3</th>\n",
       "      <td>27</td>\n",
       "      <td>15145579</td>\n",
       "    </tr>\n",
       "    <tr>\n",
       "      <th>4</th>\n",
       "      <td>27</td>\n",
       "      <td>159801019</td>\n",
       "    </tr>\n",
       "    <tr>\n",
       "      <th>5</th>\n",
       "      <td>22</td>\n",
       "      <td>579299426</td>\n",
       "    </tr>\n",
       "    <tr>\n",
       "      <th>6</th>\n",
       "      <td>19</td>\n",
       "      <td>483121138</td>\n",
       "    </tr>\n",
       "    <tr>\n",
       "      <th>7</th>\n",
       "      <td>15</td>\n",
       "      <td>33456450</td>\n",
       "    </tr>\n",
       "    <tr>\n",
       "      <th>8</th>\n",
       "      <td>13</td>\n",
       "      <td>323040062</td>\n",
       "    </tr>\n",
       "    <tr>\n",
       "      <th>9</th>\n",
       "      <td>13</td>\n",
       "      <td>191463878</td>\n",
       "    </tr>\n",
       "    <tr>\n",
       "      <th>10</th>\n",
       "      <td>12</td>\n",
       "      <td>912159717711003648</td>\n",
       "    </tr>\n",
       "    <tr>\n",
       "      <th>11</th>\n",
       "      <td>11</td>\n",
       "      <td>3377132271</td>\n",
       "    </tr>\n",
       "    <tr>\n",
       "      <th>12</th>\n",
       "      <td>11</td>\n",
       "      <td>114708600</td>\n",
       "    </tr>\n",
       "    <tr>\n",
       "      <th>13</th>\n",
       "      <td>11</td>\n",
       "      <td>25861979</td>\n",
       "    </tr>\n",
       "    <tr>\n",
       "      <th>14</th>\n",
       "      <td>11</td>\n",
       "      <td>808680579977846786</td>\n",
       "    </tr>\n",
       "    <tr>\n",
       "      <th>15</th>\n",
       "      <td>10</td>\n",
       "      <td>860158302</td>\n",
       "    </tr>\n",
       "    <tr>\n",
       "      <th>16</th>\n",
       "      <td>10</td>\n",
       "      <td>214910741</td>\n",
       "    </tr>\n",
       "    <tr>\n",
       "      <th>17</th>\n",
       "      <td>10</td>\n",
       "      <td>44145244</td>\n",
       "    </tr>\n",
       "    <tr>\n",
       "      <th>18</th>\n",
       "      <td>9</td>\n",
       "      <td>3404501920</td>\n",
       "    </tr>\n",
       "    <tr>\n",
       "      <th>19</th>\n",
       "      <td>9</td>\n",
       "      <td>96123433</td>\n",
       "    </tr>\n",
       "    <tr>\n",
       "      <th>20</th>\n",
       "      <td>9</td>\n",
       "      <td>745174243</td>\n",
       "    </tr>\n",
       "    <tr>\n",
       "      <th>21</th>\n",
       "      <td>9</td>\n",
       "      <td>218436831</td>\n",
       "    </tr>\n",
       "    <tr>\n",
       "      <th>22</th>\n",
       "      <td>8</td>\n",
       "      <td>93494670</td>\n",
       "    </tr>\n",
       "    <tr>\n",
       "      <th>23</th>\n",
       "      <td>8</td>\n",
       "      <td>1494034783</td>\n",
       "    </tr>\n",
       "    <tr>\n",
       "      <th>24</th>\n",
       "      <td>8</td>\n",
       "      <td>233301082</td>\n",
       "    </tr>\n",
       "    <tr>\n",
       "      <th>25</th>\n",
       "      <td>8</td>\n",
       "      <td>87818409</td>\n",
       "    </tr>\n",
       "    <tr>\n",
       "      <th>26</th>\n",
       "      <td>7</td>\n",
       "      <td>62890569</td>\n",
       "    </tr>\n",
       "    <tr>\n",
       "      <th>27</th>\n",
       "      <td>7</td>\n",
       "      <td>1527321013</td>\n",
       "    </tr>\n",
       "    <tr>\n",
       "      <th>28</th>\n",
       "      <td>7</td>\n",
       "      <td>68433639</td>\n",
       "    </tr>\n",
       "    <tr>\n",
       "      <th>29</th>\n",
       "      <td>7</td>\n",
       "      <td>461494325</td>\n",
       "    </tr>\n",
       "    <tr>\n",
       "      <th>...</th>\n",
       "      <td>...</td>\n",
       "      <td>...</td>\n",
       "    </tr>\n",
       "    <tr>\n",
       "      <th>466</th>\n",
       "      <td>1</td>\n",
       "      <td>210914335</td>\n",
       "    </tr>\n",
       "    <tr>\n",
       "      <th>467</th>\n",
       "      <td>1</td>\n",
       "      <td>29453763</td>\n",
       "    </tr>\n",
       "    <tr>\n",
       "      <th>468</th>\n",
       "      <td>1</td>\n",
       "      <td>461305047</td>\n",
       "    </tr>\n",
       "    <tr>\n",
       "      <th>469</th>\n",
       "      <td>1</td>\n",
       "      <td>216477773</td>\n",
       "    </tr>\n",
       "    <tr>\n",
       "      <th>470</th>\n",
       "      <td>1</td>\n",
       "      <td>14335498</td>\n",
       "    </tr>\n",
       "    <tr>\n",
       "      <th>471</th>\n",
       "      <td>1</td>\n",
       "      <td>819272622173208576</td>\n",
       "    </tr>\n",
       "    <tr>\n",
       "      <th>472</th>\n",
       "      <td>1</td>\n",
       "      <td>70150697</td>\n",
       "    </tr>\n",
       "    <tr>\n",
       "      <th>473</th>\n",
       "      <td>1</td>\n",
       "      <td>34704817</td>\n",
       "    </tr>\n",
       "    <tr>\n",
       "      <th>474</th>\n",
       "      <td>1</td>\n",
       "      <td>799362990</td>\n",
       "    </tr>\n",
       "    <tr>\n",
       "      <th>475</th>\n",
       "      <td>1</td>\n",
       "      <td>48989136</td>\n",
       "    </tr>\n",
       "    <tr>\n",
       "      <th>476</th>\n",
       "      <td>1</td>\n",
       "      <td>939226045</td>\n",
       "    </tr>\n",
       "    <tr>\n",
       "      <th>477</th>\n",
       "      <td>1</td>\n",
       "      <td>2200751351</td>\n",
       "    </tr>\n",
       "    <tr>\n",
       "      <th>478</th>\n",
       "      <td>1</td>\n",
       "      <td>130507393</td>\n",
       "    </tr>\n",
       "    <tr>\n",
       "      <th>479</th>\n",
       "      <td>1</td>\n",
       "      <td>614659332</td>\n",
       "    </tr>\n",
       "    <tr>\n",
       "      <th>480</th>\n",
       "      <td>1</td>\n",
       "      <td>330501528</td>\n",
       "    </tr>\n",
       "    <tr>\n",
       "      <th>481</th>\n",
       "      <td>1</td>\n",
       "      <td>67646770</td>\n",
       "    </tr>\n",
       "    <tr>\n",
       "      <th>482</th>\n",
       "      <td>1</td>\n",
       "      <td>742143</td>\n",
       "    </tr>\n",
       "    <tr>\n",
       "      <th>483</th>\n",
       "      <td>1</td>\n",
       "      <td>209987188</td>\n",
       "    </tr>\n",
       "    <tr>\n",
       "      <th>484</th>\n",
       "      <td>1</td>\n",
       "      <td>464766868</td>\n",
       "    </tr>\n",
       "    <tr>\n",
       "      <th>485</th>\n",
       "      <td>1</td>\n",
       "      <td>1484133290</td>\n",
       "    </tr>\n",
       "    <tr>\n",
       "      <th>486</th>\n",
       "      <td>1</td>\n",
       "      <td>1470210074</td>\n",
       "    </tr>\n",
       "    <tr>\n",
       "      <th>487</th>\n",
       "      <td>1</td>\n",
       "      <td>95751941</td>\n",
       "    </tr>\n",
       "    <tr>\n",
       "      <th>488</th>\n",
       "      <td>1</td>\n",
       "      <td>391026330</td>\n",
       "    </tr>\n",
       "    <tr>\n",
       "      <th>489</th>\n",
       "      <td>1</td>\n",
       "      <td>247930540</td>\n",
       "    </tr>\n",
       "    <tr>\n",
       "      <th>490</th>\n",
       "      <td>1</td>\n",
       "      <td>86683979</td>\n",
       "    </tr>\n",
       "    <tr>\n",
       "      <th>491</th>\n",
       "      <td>1</td>\n",
       "      <td>56290481</td>\n",
       "    </tr>\n",
       "    <tr>\n",
       "      <th>492</th>\n",
       "      <td>1</td>\n",
       "      <td>20808463</td>\n",
       "    </tr>\n",
       "    <tr>\n",
       "      <th>493</th>\n",
       "      <td>1</td>\n",
       "      <td>322951176</td>\n",
       "    </tr>\n",
       "    <tr>\n",
       "      <th>494</th>\n",
       "      <td>1</td>\n",
       "      <td>64511106</td>\n",
       "    </tr>\n",
       "    <tr>\n",
       "      <th>495</th>\n",
       "      <td>1</td>\n",
       "      <td>25589145</td>\n",
       "    </tr>\n",
       "  </tbody>\n",
       "</table>\n",
       "<p>496 rows × 2 columns</p>\n",
       "</div>"
      ],
      "text/plain": [
       "     count          twitter_id\n",
       "0       97           166477660\n",
       "1       84           505670972\n",
       "2       43            50354388\n",
       "3       27            15145579\n",
       "4       27           159801019\n",
       "5       22           579299426\n",
       "6       19           483121138\n",
       "7       15            33456450\n",
       "8       13           323040062\n",
       "9       13           191463878\n",
       "10      12  912159717711003648\n",
       "11      11          3377132271\n",
       "12      11           114708600\n",
       "13      11            25861979\n",
       "14      11  808680579977846786\n",
       "15      10           860158302\n",
       "16      10           214910741\n",
       "17      10            44145244\n",
       "18       9          3404501920\n",
       "19       9            96123433\n",
       "20       9           745174243\n",
       "21       9           218436831\n",
       "22       8            93494670\n",
       "23       8          1494034783\n",
       "24       8           233301082\n",
       "25       8            87818409\n",
       "26       7            62890569\n",
       "27       7          1527321013\n",
       "28       7            68433639\n",
       "29       7           461494325\n",
       "..     ...                 ...\n",
       "466      1           210914335\n",
       "467      1            29453763\n",
       "468      1           461305047\n",
       "469      1           216477773\n",
       "470      1            14335498\n",
       "471      1  819272622173208576\n",
       "472      1            70150697\n",
       "473      1            34704817\n",
       "474      1           799362990\n",
       "475      1            48989136\n",
       "476      1           939226045\n",
       "477      1          2200751351\n",
       "478      1           130507393\n",
       "479      1           614659332\n",
       "480      1           330501528\n",
       "481      1            67646770\n",
       "482      1              742143\n",
       "483      1           209987188\n",
       "484      1           464766868\n",
       "485      1          1484133290\n",
       "486      1          1470210074\n",
       "487      1            95751941\n",
       "488      1           391026330\n",
       "489      1           247930540\n",
       "490      1            86683979\n",
       "491      1            56290481\n",
       "492      1            20808463\n",
       "493      1           322951176\n",
       "494      1            64511106\n",
       "495      1            25589145\n",
       "\n",
       "[496 rows x 2 columns]"
      ]
     },
     "execution_count": 44,
     "metadata": {},
     "output_type": "execute_result"
    }
   ],
   "source": [
    "df_mentioned_to"
   ]
  },
  {
   "cell_type": "markdown",
   "metadata": {
    "deletable": true,
    "editable": true
   },
   "source": [
    "##### Top 3 most mentioned users from OM Network"
   ]
  },
  {
   "cell_type": "markdown",
   "metadata": {
    "deletable": true,
    "editable": true
   },
   "source": [
    "Get all OM twitter user ids"
   ]
  },
  {
   "cell_type": "code",
   "execution_count": 45,
   "metadata": {
    "collapsed": false,
    "deletable": true,
    "editable": true
   },
   "outputs": [],
   "source": [
    "om_user_twitter_ids = []\n",
    "\n",
    "page = 1\n",
    "while(True):\n",
    "    request = '/omn_crawler/get_om_user_profiles?page='+str(page) + '&' + 'api_key=' + api_key\n",
    "    res = requests.get(insightSetting + request)\n",
    "    if len(res.json()['users']) == 0:\n",
    "        break\n",
    "    for u in res.json()['users']:\n",
    "        try:\n",
    "            om_user_twitter_ids.append(u['twitter_profile']['id_str'])\n",
    "        except:\n",
    "            pass\n",
    "    page += 1"
   ]
  },
  {
   "cell_type": "code",
   "execution_count": 46,
   "metadata": {
    "collapsed": true,
    "deletable": true,
    "editable": true
   },
   "outputs": [],
   "source": [
    "from IPython.display import Image, display\n",
    "\n",
    "def show_user_profile(user_data):\n",
    "    info = [\"profile_image_url\", \"name\", \"screen_name\"]\n",
    "    for i in info:\n",
    "        if i == \"profile_image_url\":\n",
    "            display(Image(user_data[i]))\n",
    "        else:\n",
    "            print( i , \":\" ,  user_data[i])"
   ]
  },
  {
   "cell_type": "code",
   "execution_count": 47,
   "metadata": {
    "collapsed": false,
    "deletable": true,
    "editable": true
   },
   "outputs": [
    {
     "data": {
      "image/jpeg": "[encoded data removed]",
      "text/plain": [
       "<IPython.core.display.Image object>"
      ]
     },
     "metadata": {},
     "output_type": "display_data"
    },
    {
     "name": "stdout",
     "output_type": "stream",
     "text": [
      "name : Boğaziçi Üni.\n",
      "screen_name : UniBogazici\n",
      "Mention Count : 13\n",
      "\n"
     ]
    },
    {
     "data": {
      "image/jpeg": "[encoded data removed]",
      "text/plain": [
       "<IPython.core.display.Image object>"
      ]
     },
     "metadata": {},
     "output_type": "display_data"
    },
    {
     "name": "stdout",
     "output_type": "stream",
     "text": [
      "name : S. Uskudarli\n",
      "screen_name : uskudarli\n",
      "Mention Count : 3\n",
      "\n"
     ]
    },
    {
     "data": {
      "image/jpeg": "[encoded data removed]",
      "text/plain": [
       "<IPython.core.display.Image object>"
      ]
     },
     "metadata": {},
     "output_type": "display_data"
    },
    {
     "name": "stdout",
     "output_type": "stream",
     "text": [
      "name : Bogdan Ceobanu\n",
      "screen_name : studios\n",
      "Mention Count : 1\n",
      "\n"
     ]
    }
   ],
   "source": [
    "ctr = 0\n",
    "for i, mt in df_mentioned_to.iterrows():\n",
    "    if mt['twitter_id'] != str(twitter_ids[0]) and mt['twitter_id'] in om_user_twitter_ids:\n",
    "        request = '/omn_crawler/get_om_user_profiles?twitter_ids=[' + str(mt['twitter_id']) + ']' + '&' + 'api_key=' + api_key\n",
    "        res = requests.get(insightSetting + request)\n",
    "        show_user_profile(res.json()['users'][0]['twitter_profile'])\n",
    "        print(\"Mention Count : \" + str(mt['count']))\n",
    "        print()\n",
    "        ctr += 1\n",
    "        if ctr == 3:\n",
    "            break"
   ]
  },
  {
   "cell_type": "markdown",
   "metadata": {
    "deletable": true,
    "editable": true
   },
   "source": [
    "### Recommendation"
   ]
  },
  {
   "cell_type": "markdown",
   "metadata": {
    "deletable": true,
    "editable": true
   },
   "source": [
    "**Summary of an Event**\n",
    "\n",
    "List all events for a selected Twitter user"
   ]
  },
  {
   "cell_type": "code",
   "execution_count": 93,
   "metadata": {
    "collapsed": false,
    "deletable": true,
    "editable": true
   },
   "outputs": [],
   "source": [
    "import requests\n",
    "import json\n",
    "\n",
    "insightIP = 'http://178.62.229.16'\n",
    "insightPort = '8484'\n",
    "insightVersion = 'v1.0'\n",
    "insightSetting = insightIP + ':' + insightPort + '/api/' + insightVersion \n",
    "api_key = \"\" #needs to be filled\n",
    "\n",
    "users = []\n",
    "crm_ids = [135574293]\n",
    "\n",
    "# send a request for a selected Twitter User\n",
    "request = '/recommendation/events?' + 'crm_ids=' + str(crm_ids) + '&' + 'api_key=' + api_key\n",
    "res = requests.get(insightSetting + request)\n",
    "\n",
    "users.extend(res.json()['users'])"
   ]
  },
  {
   "cell_type": "code",
   "execution_count": 94,
   "metadata": {
    "collapsed": false,
    "deletable": true,
    "editable": true
   },
   "outputs": [],
   "source": [
    "event_summary = users[0]['events'][0]"
   ]
  },
  {
   "cell_type": "markdown",
   "metadata": {
    "deletable": true,
    "editable": true
   },
   "source": [
    "Show a summary of the recommended event for a requested Twitter user"
   ]
  },
  {
   "cell_type": "code",
   "execution_count": 96,
   "metadata": {
    "collapsed": false,
    "deletable": true,
    "editable": true
   },
   "outputs": [],
   "source": [
    "def show_event_summary(user_data):\n",
    "    info = [\"name\", \"id\", \"start_time\", \"end_time\", \"link\", \"place\"]\n",
    "    for i in info:\n",
    "        print (i , \":\" ,  user_data[i])"
   ]
  },
  {
   "cell_type": "code",
   "execution_count": 97,
   "metadata": {
    "collapsed": false,
    "deletable": true,
    "editable": true
   },
   "outputs": [
    {
     "name": "stdout",
     "output_type": "stream",
     "text": [
      "name : Navigating Real Estate Disruption | Executive Program\n",
      "id : 38521660323\n",
      "start_time : 2018-02-26\n",
      "end_time : 1520031600.0\n",
      "link : https://www.eventbrite.com/e/navigating-real-estate-disruption-executive-program-tickets-38521660323?aff=ebapi\n",
      "place : San Mateo, US\n"
     ]
    }
   ],
   "source": [
    "show_event_summary(event_summary)"
   ]
  },
  {
   "cell_type": "markdown",
   "metadata": {
    "deletable": true,
    "editable": true
   },
   "source": [
    "**Summary of an Article**\n",
    "\n",
    "List all articles for a selected Twitter user"
   ]
  },
  {
   "cell_type": "code",
   "execution_count": 98,
   "metadata": {
    "collapsed": true,
    "deletable": true,
    "editable": true
   },
   "outputs": [],
   "source": [
    "import requests\n",
    "import json\n",
    "\n",
    "insightIP = 'http://178.62.229.16'\n",
    "insightPort = '8484'\n",
    "insightVersion = 'v1.0'\n",
    "insightSetting = insightIP + ':' + insightPort + '/api/' + insightVersion \n",
    "api_key = \"\" #needs to be filled\n",
    "\n",
    "users = []\n",
    "crm_ids = [135574293]\n",
    "\n",
    "# send a request for a selected Twitter User\n",
    "request = '/recommendation/news?'+ 'crm_ids=' + str(crm_ids) + '&' + 'api_key=' + api_key\n",
    "res = requests.get(insightSetting + request)\n",
    "\n",
    "users.extend(res.json()['users'])"
   ]
  },
  {
   "cell_type": "markdown",
   "metadata": {
    "deletable": true,
    "editable": true
   },
   "source": [
    "Show a summary of the recommended article for a requested Twitter user"
   ]
  },
  {
   "cell_type": "code",
   "execution_count": 99,
   "metadata": {
    "collapsed": false,
    "deletable": true,
    "editable": true
   },
   "outputs": [],
   "source": [
    "def show_article_summary(user_data):\n",
    "    info = [\"summary\", \"source\", \"published_at\", \"url\", \"keywords\", \"popularity\", \"full_text\"]\n",
    "    for i in info:\n",
    "        if i == \"keywords\":\n",
    "            print (i , \":\" ,  [a.encode('ascii','ignore') for a in user_data['keywords']], \"\\n\")\n",
    "        else:\n",
    "            print (i , \":\" ,  user_data[i], \"\\n\")"
   ]
  },
  {
   "cell_type": "code",
   "execution_count": 100,
   "metadata": {
    "collapsed": false,
    "deletable": true,
    "editable": true
   },
   "outputs": [
    {
     "name": "stdout",
     "output_type": "stream",
     "text": [
      "summary : [Bryan]’s family feeds their dog Chloe once a day, in the mornings.\n",
      "[Bryan]’s dog-fed detector uses a reed switch and an Arduino clone to detect when the lid is opened.\n",
      "When the reed switch goes, low, the Arduino lights up an LED.\n",
      "The light stays on for two hours and then shuts off automatically to get ready for the next day.\n",
      "Since Chloe devours a bowl of food in about two minutes flat, maybe the next project for [Bryan]’s family could teach her to slow down a bit. \n",
      "\n",
      "source : hackaday.com \n",
      "\n",
      "published_at : 27-02-2018 \n",
      "\n",
      "url : https://hackaday.com/2018/02/27/definitive-dog-feeding-with-arduino/ \n",
      "\n",
      "keywords : [b'reed', b'chloe', b'family', b'day', b'young', b'food', b'dog', b'feeding', b'bryans', b'definitive', b'arduino', b'switch', b'wastebasket'] \n",
      "\n",
      "popularity : 27 \n",
      "\n",
      "full_text : Some dogs have no sense of self-preservation. Given the opportunity, they will eat until they’re sick. It’s up to us humans to both feed them and remember doing it so they aren’t accidentally overfed. In a busy household with young children, the tricky part is the remembering.\n",
      "\n",
      "[Bryan]’s family feeds their dog Chloe once a day, in the mornings. She was a rescue who spent a few years scrounging for meals on the street, so some part of her is always interested in finding food, even if she just ate. Each morning, the flurry of activity throughout the house is compounded by Chloe’s repeated requests for food, so [Bryan] got his kids involved and built a simple circuit that lets everyone know—at a glance—whether Chloe was fed.\n",
      "\n",
      "Chloe’s kibble is kept in a touch-top wastebasket that flips open at the press of a button. [Bryan]’s dog-fed detector uses a reed switch and an Arduino clone to detect when the lid is opened. When the reed switch goes, low, the Arduino lights up an LED. The light stays on for two hours and then shuts off automatically to get ready for the next day. You don’t have to beg for a demo video, because it’s waiting for you after the break.\n",
      "\n",
      "Since Chloe devours a bowl of food in about two minutes flat, maybe the next project for [Bryan]’s family could teach her to slow down a bit. \n",
      "\n"
     ]
    }
   ],
   "source": [
    "article_summary = users[0]['news'][5]\n",
    "show_article_summary(article_summary)"
   ]
  }
 ],
 "metadata": {
  "anaconda-cloud": {},
  "kernelspec": {
   "display_name": "Python 3",
   "language": "python",
   "name": "python3"
  },
  "language_info": {
   "codemirror_mode": {
    "name": "ipython",
    "version": 3
   },
   "file_extension": ".py",
   "mimetype": "text/x-python",
   "name": "python",
   "nbconvert_exporter": "python",
   "pygments_lexer": "ipython3",
   "version": "3.6.0"
  }
 },
 "nbformat": 4,
 "nbformat_minor": 1
}
